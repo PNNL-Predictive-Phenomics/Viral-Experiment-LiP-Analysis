{
  "cells": [
    {
      "cell_type": "markdown",
      "metadata": {},
      "source": [
        "---\n",
        "jupyter: python3\n",
        "---"
      ]
    },
    {
      "cell_type": "code",
      "metadata": {},
      "source": [
        "import sys, os, re, warnings, copy, math, time, datetime\n",
        "\n",
        "warnings.filterwarnings(\"ignore\")\n",
        "\n",
        "from IPython.display import display\n",
        "from pathlib import Path\n",
        "home = str(Path.home())\n",
        "\n",
        "import numpy as np\n",
        "import scipy as sp\n",
        "import pandas as pd\n",
        "import statsmodels.stats.multitest as multitest\n",
        "import matplotlib.pyplot as plt\n",
        "plt.rcParams['figure.figsize'] = [7, 5]\n",
        "# plt.rcParams['figure.dpi'] = 100 # 200 e.g. is really fine, but slower\n",
        "import seaborn as sns\n",
        "from plotnine import *\n",
        "\n",
        "from Bio import SeqIO\n",
        "from Bio.PDB import *\n",
        "from Bio.PDB.MMCIF2Dict import MMCIF2Dict\n",
        "from Bio.PDB.MMCIFParser import MMCIFParser\n",
        "import networkx as nx\n",
        "# import nglview as nv\n",
        "\n",
        "from utils import *"
      ],
      "execution_count": null,
      "outputs": []
    },
    {
      "cell_type": "markdown",
      "metadata": {},
      "source": [
        "# Required inputs and parameters\n",
        "\n",
        "## Cyanobacteria 2023-01-09"
      ]
    },
    {
      "cell_type": "code",
      "metadata": {},
      "source": [
        "fasta_file = \"./data/LiP-Cyano-Exp2/ID_005856_9F874F1E.fasta\"\n",
        "prot_seq_obj = SeqIO.parse(fasta_file, \"fasta\")\n",
        "prot_seqs = [seq_item for seq_item in prot_seq_obj]\n",
        "len(prot_seqs)"
      ],
      "execution_count": null,
      "outputs": []
    },
    {
      "cell_type": "code",
      "metadata": {},
      "source": [
        "id_separator = '@'\n",
        "sig_thr = 0.05\n",
        "adj_thr = 0.1\n",
        "sig_num_thr = 1\n",
        "prot_missing_thr = 0.5\n",
        "pept_missing_thr = 0.5\n",
        "min_pept_count = 1\n",
        "sample = \"Cyano\"\n",
        "# sample = \"A549\"\n",
        "# sample = \"MRC5\"\n",
        "workdir = \"./data/LiP-\" + sample + \"-Exp2/\"\n",
        "result_dir = \"./results/20230110_LiP/\" + sample + '/'\n",
        "Path(result_dir).mkdir(parents=True, exist_ok=True)"
      ],
      "execution_count": null,
      "outputs": []
    },
    {
      "cell_type": "code",
      "metadata": {},
      "source": [
        "trypsin_pept_file = workdir + \"Trypsin_only_samples/Semispecific_trypsin/peptides.txt\"\n",
        "trypsin_prot_file = workdir + \"Trypsin_only_samples/Semispecific_trypsin/proteinGroups.txt\"\n",
        "double_pept_file = workdir + \"Double_digested_samples/Semispecific_trypsin/peptides.txt\"\n",
        "# double_prot_file = workdir + \"Double_digested_samples/Semispecific_trypsin/proteinGroups.txt\""
      ],
      "execution_count": null,
      "outputs": []
    },
    {
      "cell_type": "code",
      "metadata": {},
      "source": [
        "trypsin_pept = pd.read_csv(trypsin_pept_file, sep='\\t')\n",
        "trypsin_prot = pd.read_csv(trypsin_prot_file, sep='\\t')\n",
        "double_pept = pd.read_csv(double_pept_file, sep='\\t')\n",
        "# double_prot = pd.read_csv(double_prot_file, sep='\\t')"
      ],
      "execution_count": null,
      "outputs": []
    },
    {
      "cell_type": "code",
      "metadata": {},
      "source": [
        "print(double_pept.columns.to_list())\n",
        "print(trypsin_pept.columns.to_list())"
      ],
      "execution_count": null,
      "outputs": []
    },
    {
      "cell_type": "code",
      "metadata": {},
      "source": [
        "ProteinID_col_prot = \"Majority protein IDs\"\n",
        "ProteinID_col_pept = \"Leading razor protein\"\n",
        "PeptCounts_col = \"Peptide counts (all)\""
      ],
      "execution_count": null,
      "outputs": []
    },
    {
      "cell_type": "code",
      "metadata": {},
      "source": [
        "trypsin_ctrl_cols = ['Intensity Cyano_Light_T1', 'Intensity Cyano_Light_T2', 'Intensity Cyano_Light_T3', 'Intensity Cyano_Light_T4']\n",
        "trypsin_treat_cols = ['Intensity Cyano_Dark_T1', 'Intensity Cyano_Dark_T2', 'Intensity Cyano_Dark_T3', 'Intensity Cyano_Dark_T4']\n",
        "trypsin_int_cols = trypsin_ctrl_cols + trypsin_treat_cols\n",
        "double_ctrl_cols = ['Intensity Cyano_Light_DD1', 'Intensity Cyano_Light_DD2', 'Intensity Cyano_Light_DD3', 'Intensity Cyano_Light_DD4']\n",
        "double_treat_cols = ['Intensity Cyano_Dark_DD1', 'Intensity Cyano_Dark_DD2', 'Intensity Cyano_Dark_DD3', 'Intensity Cyano_Dark_DD4']\n",
        "double_int_cols = double_ctrl_cols + double_treat_cols"
      ],
      "execution_count": null,
      "outputs": []
    },
    {
      "cell_type": "code",
      "metadata": {},
      "source": [
        "prot_info_cols = ['id', 'Uniprot', \"Fasta headers\", \"Treat/Control\", \"Treat/Control_pval\", \"Scalar\"]\n",
        "info_cols = ['id', 'Sequence', 'Uniprot', 'Amino acid before', 'Last amino acid', 'Length', 'Start position', 'End position', 'Missed cleavages', \"Scalar\", \"Ctrl missingness\", \"Treat missingness\", \"Total missingness\", \"Control\", \"Treat\", \"Treat/Control\", \"Treat/Control_pval\", \"Treat/Control_adj-p\", \"Treat/Control_adj-p_BY\", \"Treat/Control_adj-p_bonferroni\", \"Sig Pept num\"]"
      ],
      "execution_count": null,
      "outputs": []
    },
    {
      "cell_type": "markdown",
      "metadata": {},
      "source": [
        "## Cyanobacteria 2023-10-18"
      ]
    },
    {
      "cell_type": "code",
      "metadata": {},
      "source": [
        "data_dir = \"./data/LIP_Cyano_Exp3/\"\n",
        "fasta_file = data_dir + \"ID_005856_9F874F1E.fasta\"\n",
        "prot_seq_obj = SeqIO.parse(fasta_file, \"fasta\")\n",
        "prot_seqs = [seq_item for seq_item in prot_seq_obj]\n",
        "len(prot_seqs)"
      ],
      "execution_count": null,
      "outputs": []
    },
    {
      "cell_type": "code",
      "metadata": {},
      "source": [
        "prot_info_cols = ['id', 'Uniprot', \"Fasta headers\", \"Treat/Control\", \"Treat/Control_pval\", \"Scalar\"]\n",
        "info_cols = ['id', 'Sequence', 'Uniprot', 'Amino acid before', 'Last amino acid', 'Length', 'Start position', 'End position', 'Missed cleavages', \"Scalar\", \"Ctrl missingness\", \"Treat missingness\", \"Total missingness\", \"Control\", \"Treat\", \"Treat/Control\", \"Treat/Control_pval\", \"Treat/Control_adj-p\", \"Treat/Control_adj-p_BY\", \"Treat/Control_adj-p_bonferroni\", \"Sig Pept num\"]"
      ],
      "execution_count": null,
      "outputs": []
    },
    {
      "cell_type": "code",
      "metadata": {},
      "source": [
        "id_separator = '@'\n",
        "sig_thr = 0.05\n",
        "adj_thr = 0.1\n",
        "sig_num_thr = 1\n",
        "prot_missing_thr = 0.5\n",
        "pept_missing_thr = 0.5\n",
        "min_pept_count = 1\n",
        "# sample = \"Dense\"\n",
        "sample = \"Dilute\"\n",
        "# sample = \"Dense2Dilute\"\n",
        "workdir = data_dir + sample + \"/\"\n",
        "result_dir = \"./results/20231025_LiP_Cyano_Exp3/\" + sample + '/'\n",
        "Path(result_dir).mkdir(parents=True, exist_ok=True)"
      ],
      "execution_count": null,
      "outputs": []
    },
    {
      "cell_type": "code",
      "metadata": {},
      "source": [
        "trypsin_pept_file = workdir + \"Trypsin only/peptides.txt\"\n",
        "trypsin_prot_file = workdir + \"Trypsin only/proteinGroups.txt\"\n",
        "double_pept_file = workdir + \"Double digest/peptides.txt\"\n",
        "# double_prot_file = workdir + \"Double digest/proteinGroups.txt\""
      ],
      "execution_count": null,
      "outputs": []
    },
    {
      "cell_type": "code",
      "metadata": {},
      "source": [
        "trypsin_pept = pd.read_csv(trypsin_pept_file, sep='\\t')\n",
        "trypsin_prot = pd.read_csv(trypsin_prot_file, sep='\\t')\n",
        "double_pept = pd.read_csv(double_pept_file, sep='\\t')\n",
        "# double_prot = pd.read_csv(double_prot_file, sep='\\t')"
      ],
      "execution_count": null,
      "outputs": []
    },
    {
      "cell_type": "code",
      "metadata": {},
      "source": [
        "print(double_pept.columns.to_list())\n",
        "print(trypsin_pept.columns.to_list())"
      ],
      "execution_count": null,
      "outputs": []
    },
    {
      "cell_type": "code",
      "metadata": {},
      "source": [
        "ProteinID_col_prot = \"Majority protein IDs\"\n",
        "ProteinID_col_pept = \"Leading razor protein\"\n",
        "PeptCounts_col = \"Peptide counts (all)\""
      ],
      "execution_count": null,
      "outputs": []
    },
    {
      "cell_type": "code",
      "metadata": {},
      "source": [
        "trypsin_ctrl_cols = ['LFQ intensity Dense_Light_T1', 'LFQ intensity Dense_Light_T2', 'LFQ intensity Dense_Light_T3', 'LFQ intensity Dense_Light_T4', 'LFQ intensity Dense_Light_T5']\n",
        "trypsin_treat_cols = ['LFQ intensity Dense_Dark_T1', 'LFQ intensity Dense_Dark_T2', 'LFQ intensity Dense_Dark_T3', 'LFQ intensity Dense_Dark_T4', 'LFQ intensity Dense_Dark_T5']\n",
        "trypsin_int_cols = trypsin_ctrl_cols + trypsin_treat_cols\n",
        "double_ctrl_cols = ['LFQ intensity Dense_Light_DD1', 'LFQ intensity Dense_Light_DD2', 'LFQ intensity Dense_Light_DD3', 'LFQ intensity Dense_Light_DD4', 'LFQ intensity Dense_Light_DD5']\n",
        "double_treat_cols = ['LFQ intensity Dense_Dark_DD1', 'LFQ intensity Dense_Dark_DD2', 'LFQ intensity Dense_Dark_DD3', 'LFQ intensity Dense_Dark_DD4', 'LFQ intensity Dense_Dark_DD5']\n",
        "double_int_cols = double_ctrl_cols + double_treat_cols"
      ],
      "execution_count": null,
      "outputs": []
    },
    {
      "cell_type": "code",
      "metadata": {},
      "source": [
        "trypsin_ctrl_cols = ['LFQ intensity Dilute_Light_T1', 'LFQ intensity Dilute_Light_T2', 'LFQ intensity Dilute_Light_T3', 'LFQ intensity Dilute_Light_T4', 'LFQ intensity Dilute_Light_T5']\n",
        "trypsin_treat_cols = ['LFQ intensity Dilute_Dark_T1', 'LFQ intensity Dilute_Dark_T2', 'LFQ intensity Dilute_Dark_T3', 'LFQ intensity Dilute_Dark_T4', 'LFQ intensity Dilute_Dark_T5']\n",
        "trypsin_int_cols = trypsin_ctrl_cols + trypsin_treat_cols\n",
        "double_ctrl_cols = ['LFQ intensity Dilute_Light_DD1', 'LFQ intensity Dilute_Light_DD2', 'LFQ intensity Dilute_Light_DD3', 'LFQ intensity Dilute_Light_DD4', 'LFQ intensity Dilute_Light_DD5']\n",
        "double_treat_cols = ['LFQ intensity Dilute_Dark_DD1', 'LFQ intensity Dilute_Dark_DD2', 'LFQ intensity Dilute_Dark_DD3', 'LFQ intensity Dilute_Dark_DD4', 'LFQ intensity Dilute_Dark_DD5']\n",
        "double_int_cols = double_ctrl_cols + double_treat_cols"
      ],
      "execution_count": null,
      "outputs": []
    },
    {
      "cell_type": "code",
      "metadata": {},
      "source": [
        "trypsin_ctrl_cols = ['LFQ intensity Dense_Light_T1', 'LFQ intensity Dense_Light_T2', 'LFQ intensity Dense_Light_T3', 'LFQ intensity Dense_Light_T4', 'LFQ intensity Dense_Light_T5']\n",
        "trypsin_treat_cols = ['LFQ intensity Dilute_Light_T1', 'LFQ intensity Dilute_Light_T2', 'LFQ intensity Dilute_Light_T3', 'LFQ intensity Dilute_Light_T4', 'LFQ intensity Dilute_Light_T5']\n",
        "trypsin_int_cols = trypsin_ctrl_cols + trypsin_treat_cols\n",
        "double_ctrl_cols = ['LFQ intensity Dense_Light_DD1', 'LFQ intensity Dense_Light_DD2', 'LFQ intensity Dense_Light_DD3', 'LFQ intensity Dense_Light_DD4', 'LFQ intensity Dense_Light_DD5']\n",
        "double_treat_cols = ['LFQ intensity Dilute_Light_DD1', 'LFQ intensity Dilute_Light_DD2', 'LFQ intensity Dilute_Light_DD3', 'LFQ intensity Dilute_Light_DD4', 'LFQ intensity Dilute_Light_DD5']\n",
        "double_int_cols = double_ctrl_cols + double_treat_cols"
      ],
      "execution_count": null,
      "outputs": []
    },
    {
      "cell_type": "markdown",
      "metadata": {},
      "source": [
        "## Host-pathogen 2023-01-03"
      ]
    },
    {
      "cell_type": "code",
      "metadata": {},
      "source": [
        "fasta_file = \"./data/LiP-Nuclear extracts-Exp2/uniprot-proteome_UP000005640+reviewed_yes.fasta\"\n",
        "prot_seq_obj = SeqIO.parse(fasta_file, \"fasta\")\n",
        "prot_seqs = [seq_item for seq_item in prot_seq_obj]\n",
        "len(prot_seqs)"
      ],
      "execution_count": null,
      "outputs": []
    },
    {
      "cell_type": "code",
      "metadata": {},
      "source": [
        "prot_info_cols = ['id', 'Uniprot', 'Gene names', 'Protein names', \"Treat/Control\", \"Treat/Control_pval\", \"Scalar\"]\n",
        "info_cols = ['id', 'Sequence', 'Uniprot', 'Gene names', 'Protein names', 'Amino acid before', 'Last amino acid', 'Length', 'Start position', 'End position', 'Missed cleavages', \"Scalar\", \"Ctrl missingness\", \"Treat missingness\", \"Total missingness\", \"Control\", \"Treat\", \"Treat/Control\", \"Treat/Control_pval\", \"Treat/Control_adj-p\", \"Treat/Control_adj-p_BY\", \"Treat/Control_adj-p_bonferroni\", \"Sig Pept num\"]"
      ],
      "execution_count": null,
      "outputs": []
    },
    {
      "cell_type": "markdown",
      "metadata": {},
      "source": [
        "### A549"
      ]
    },
    {
      "cell_type": "code",
      "metadata": {},
      "source": [
        "id_separator = '@'\n",
        "sig_thr = 0.05\n",
        "adj_thr = 0.1\n",
        "sig_num_thr = 1\n",
        "prot_missing_thr = 0.5\n",
        "pept_missing_thr = 0.5\n",
        "min_pept_count = 1\n",
        "sample = \"A549\"\n",
        "# sample = \"MRC5\"\n",
        "workdir = \"./data/LiP-Nuclear extracts-Exp2/\" + sample + \" Nuclear extracts/\"\n",
        "result_dir = \"./results/20230110_LiP/\" + sample + '/'\n",
        "Path(result_dir).mkdir(parents=True, exist_ok=True)"
      ],
      "execution_count": null,
      "outputs": []
    },
    {
      "cell_type": "code",
      "metadata": {},
      "source": [
        "trypsin_pept_file = workdir + \"Label free_MaxQuant/Trypsin_only_samples/Semispecific_trypsin/peptides.txt\"\n",
        "trypsin_prot_file = workdir + \"Label free_MaxQuant/Trypsin_only_samples/Semispecific_trypsin/proteinGroups.txt\"\n",
        "double_pept_file = workdir + \"Label free_MaxQuant/Double_digested_samples/Semispecific_trypsin/peptides.txt\"\n",
        "# double_prot_file = workdir + \"Label free_MaxQuant/Double_digested_samples/Semispecific_trypsin/proteinGroups.txt\""
      ],
      "execution_count": null,
      "outputs": []
    },
    {
      "cell_type": "code",
      "metadata": {},
      "source": [
        "trypsin_pept = pd.read_csv(trypsin_pept_file, sep='\\t')\n",
        "trypsin_prot = pd.read_csv(trypsin_prot_file, sep='\\t')\n",
        "double_pept = pd.read_csv(double_pept_file, sep='\\t')\n",
        "# double_prot = pd.read_csv(double_prot_file, sep='\\t')"
      ],
      "execution_count": null,
      "outputs": []
    },
    {
      "cell_type": "code",
      "metadata": {},
      "source": [
        "print(double_pept.columns.to_list())\n",
        "print(trypsin_pept.columns.to_list())"
      ],
      "execution_count": null,
      "outputs": []
    },
    {
      "cell_type": "code",
      "metadata": {},
      "source": [
        "ProteinID_col_prot = \"Majority protein IDs\"\n",
        "ProteinID_col_pept = \"Leading razor protein\"\n",
        "PeptCounts_col = \"Peptide counts (all)\""
      ],
      "execution_count": null,
      "outputs": []
    },
    {
      "cell_type": "code",
      "metadata": {},
      "source": [
        "trypsin_ctrl_cols = ['Intensity A549_T_Mock_1', 'Intensity A549_T_Mock_2', 'Intensity A549_T_Mock_3', 'Intensity A549_T_Mock_4', 'Intensity A549_T_Mock_5']\n",
        "trypsin_treat_cols = ['Intensity A549_T_Infected_1', 'Intensity A549_T_Infected_2', 'Intensity A549_T_Infected_3', 'Intensity A549_T_Infected_4', 'Intensity A549_T_Infected_5']\n",
        "trypsin_int_cols = trypsin_ctrl_cols + trypsin_treat_cols\n",
        "double_ctrl_cols = ['Intensity A549_DD_Mock_1', 'Intensity A549_DD_Mock_2', 'Intensity A549_DD_Mock_3', 'Intensity A549_DD_Mock_4', 'Intensity A549_DD_Mock_5']\n",
        "double_treat_cols = ['Intensity A549_DD_Infected_1', 'Intensity A549_DD_Infected_2', 'Intensity A549_DD_Infected_3', 'Intensity A549_DD_Infected_4', 'Intensity A549_DD_Infected_5']\n",
        "double_int_cols = double_ctrl_cols + double_treat_cols"
      ],
      "execution_count": null,
      "outputs": []
    },
    {
      "cell_type": "markdown",
      "metadata": {},
      "source": [
        "### MRC5"
      ]
    },
    {
      "cell_type": "code",
      "metadata": {},
      "source": [
        "id_separator = '@'\n",
        "sig_thr = 0.05\n",
        "adj_thr = 0.1\n",
        "sig_num_thr = 1\n",
        "prot_missing_thr = 0.5\n",
        "pept_missing_thr = 0.5\n",
        "min_pept_count = 1\n",
        "# sample = \"A549\"\n",
        "sample = \"MRC5\"\n",
        "workdir = \"./data/LiP-Nuclear extracts-Exp2/\" + sample + \" Nuclear extracts/\"\n",
        "fasta_file = \"./data/LiP-Nuclear extracts-Exp2/uniprot-proteome_UP000005640+reviewed_yes.fasta\"\n",
        "result_dir = \"./results/20230110_LiP/\" + sample + '/'\n",
        "Path(result_dir).mkdir(parents=True, exist_ok=True)"
      ],
      "execution_count": null,
      "outputs": []
    },
    {
      "cell_type": "code",
      "metadata": {},
      "source": [
        "trypsin_pept_file = workdir + \"Label free_MaxQuant/Trypsin_only_samples/Semispecific_trypsin/peptides.txt\"\n",
        "trypsin_prot_file = workdir + \"Label free_MaxQuant/Trypsin_only_samples/Semispecific_trypsin/proteinGroups.txt\"\n",
        "double_pept_file = workdir + \"Label free_MaxQuant/Double_digested_samples/Semispecific_trypsin/peptides.txt\"\n",
        "# double_prot_file = workdir + \"Label free_MaxQuant/Double_digested_samples/Semispecific_trypsin/proteinGroups.txt\""
      ],
      "execution_count": null,
      "outputs": []
    },
    {
      "cell_type": "code",
      "metadata": {},
      "source": [
        "trypsin_pept = pd.read_csv(trypsin_pept_file, sep='\\t')\n",
        "trypsin_prot = pd.read_csv(trypsin_prot_file, sep='\\t')\n",
        "double_pept = pd.read_csv(double_pept_file, sep='\\t')\n",
        "# double_prot = pd.read_csv(double_prot_file, sep='\\t')"
      ],
      "execution_count": null,
      "outputs": []
    },
    {
      "cell_type": "code",
      "metadata": {},
      "source": [
        "print(double_pept.columns.to_list())\n",
        "print(trypsin_pept.columns.to_list())"
      ],
      "execution_count": null,
      "outputs": []
    },
    {
      "cell_type": "code",
      "metadata": {},
      "source": [
        "ProteinID_col_prot = \"Majority protein IDs\"\n",
        "ProteinID_col_pept = \"Leading razor protein\"\n",
        "PeptCounts_col = \"Peptide counts (all)\""
      ],
      "execution_count": null,
      "outputs": []
    },
    {
      "cell_type": "code",
      "metadata": {},
      "source": [
        "trypsin_ctrl_cols = ['Intensity MRC5_T_Mock_1', 'Intensity MRC5_T_Mock_2', 'Intensity MRC5_T_Mock_3', 'Intensity MRC5_T_Mock_4', 'Intensity MRC5_T_Mock_5']\n",
        "trypsin_treat_cols = ['Intensity MRC5_T_Infected_1', 'Intensity MRC5_T_Infected_2', 'Intensity MRC5_T_Infected_3', 'Intensity MRC5_T_Infected_4', 'Intensity MRC5_T_Infected_5']\n",
        "trypsin_int_cols = trypsin_ctrl_cols + trypsin_treat_cols\n",
        "double_ctrl_cols = ['Intensity MRC5_DD_Mock_1', 'Intensity MRC5_DD_Mock_2', 'Intensity MRC5_DD_Mock_3', 'Intensity MRC5_DD_Mock_4', 'Intensity MRC5_DD_Mock_5']\n",
        "double_treat_cols = ['Intensity MRC5_DD_Infected_1', 'Intensity MRC5_DD_Infected_2', 'Intensity MRC5_DD_Infected_3', 'Intensity MRC5_DD_Infected_4', 'Intensity MRC5_DD_Infected_5']\n",
        "double_int_cols = double_ctrl_cols + double_treat_cols"
      ],
      "execution_count": null,
      "outputs": []
    },
    {
      "cell_type": "markdown",
      "metadata": {},
      "source": [
        "## Host-pathogen 2023-06-12"
      ]
    },
    {
      "cell_type": "code",
      "metadata": {},
      "source": [
        "data_folder = \"LIP_Lung_Cells_Exp_1\"\n",
        "result_folder = \"20230612_LiP\"\n",
        "fasta_file = \"./data/\" + data_folder + \"/uniprot-proteome_UP000005640+reviewed_yes.fasta\"\n",
        "prot_seq_obj = SeqIO.parse(fasta_file, \"fasta\")\n",
        "prot_seqs = [seq_item for seq_item in prot_seq_obj]\n",
        "id_separator = '@'\n",
        "sig_thr = 0.05\n",
        "adj_thr = 0.1\n",
        "sig_num_thr = 1\n",
        "prot_missing_thr = 0.5\n",
        "pept_missing_thr = 0.5\n",
        "min_pept_count = 1\n",
        "len(prot_seqs)"
      ],
      "execution_count": null,
      "outputs": []
    },
    {
      "cell_type": "code",
      "metadata": {},
      "source": [
        "prot_info_cols = ['id', 'Uniprot', 'Gene names', 'Protein names', \"Treat/Control\", \"Treat/Control_pval\", \"Scalar\"]\n",
        "info_cols = ['id', 'Sequence', 'Uniprot', 'Gene names', 'Protein names', 'Amino acid before', 'Last amino acid', 'Length', 'Start position', 'End position', 'Missed cleavages', \"Scalar\", \"Ctrl missingness\", \"Treat missingness\", \"Total missingness\", \"Control\", \"Treat\", \"Treat/Control\", \"Treat/Control_pval\", \"Treat/Control_adj-p\", \"Treat/Control_adj-p_BY\", \"Treat/Control_adj-p_bonferroni\", \"Sig Pept num\"]"
      ],
      "execution_count": null,
      "outputs": []
    },
    {
      "cell_type": "markdown",
      "metadata": {},
      "source": [
        "### A549"
      ]
    },
    {
      "cell_type": "code",
      "metadata": {},
      "source": [
        "sample = \"A549\"\n",
        "workdir = \"./data/\" + data_folder + \"/\" + sample + \"/\"\n",
        "result_dir = \"./results/\" + result_folder + \"/\" + sample + '/'\n",
        "Path(result_dir).mkdir(parents=True, exist_ok=True)"
      ],
      "execution_count": null,
      "outputs": []
    },
    {
      "cell_type": "code",
      "metadata": {},
      "source": [
        "trypsin_pept_file = workdir + \"Trypsin only/peptides.txt\"\n",
        "trypsin_prot_file = workdir + \"Trypsin only/proteinGroups.txt\"\n",
        "double_pept_file = workdir + \"Double digest/peptides.txt\"\n",
        "# double_prot_file = workdir + \"Double digest/proteinGroups.txt\""
      ],
      "execution_count": null,
      "outputs": []
    },
    {
      "cell_type": "code",
      "metadata": {},
      "source": [
        "trypsin_pept = pd.read_csv(trypsin_pept_file, sep='\\t')\n",
        "trypsin_prot = pd.read_csv(trypsin_prot_file, sep='\\t')\n",
        "double_pept = pd.read_csv(double_pept_file, sep='\\t')\n",
        "# double_prot = pd.read_csv(double_prot_file, sep='\\t')"
      ],
      "execution_count": null,
      "outputs": []
    },
    {
      "cell_type": "code",
      "metadata": {},
      "source": [
        "print(double_pept.columns.to_list())\n",
        "print(trypsin_pept.columns.to_list())"
      ],
      "execution_count": null,
      "outputs": []
    },
    {
      "cell_type": "code",
      "metadata": {},
      "source": [
        "ProteinID_col_prot = \"Majority protein IDs\"\n",
        "ProteinID_col_pept = \"Leading razor protein\"\n",
        "PeptCounts_col = \"Peptide counts (all)\""
      ],
      "execution_count": null,
      "outputs": []
    },
    {
      "cell_type": "code",
      "metadata": {},
      "source": [
        "trypsin_ctrl_cols = ['LFQ intensity A549_C_T_Mock_1', 'LFQ intensity A549_C_T_Mock_2', 'LFQ intensity A549_C_T_Mock_3', 'LFQ intensity A549_C_T_Mock_4', 'LFQ intensity A549_C_T_Mock_5']\n",
        "trypsin_treat_cols = ['LFQ intensity A549_C_T_Infected_1', 'LFQ intensity A549_C_T_Infected_2', 'LFQ intensity A549_C_T_Infected_3', 'LFQ intensity A549_C_T_Infected_4', 'LFQ intensity A549_C_T_Infected_5']\n",
        "trypsin_int_cols = trypsin_ctrl_cols + trypsin_treat_cols\n",
        "double_ctrl_cols = ['LFQ intensity A549_C_DD_Mock_1', 'LFQ intensity A549_C_DD_Mock_2', 'LFQ intensity A549_C_DD_Mock_3', 'LFQ intensity A549_C_DD_Mock_4', 'LFQ intensity A549_C_DD_Mock_5']\n",
        "double_treat_cols = ['LFQ intensity A549_C_DD_Infected_1', 'LFQ intensity A549_C_DD_Infected_2', 'LFQ intensity A549_C_DD_Infected_3', 'LFQ intensity A549_C_DD_Infected_4', 'LFQ intensity A549_C_DD_Infected_5']\n",
        "double_int_cols = double_ctrl_cols + double_treat_cols"
      ],
      "execution_count": null,
      "outputs": []
    },
    {
      "cell_type": "markdown",
      "metadata": {},
      "source": [
        "### MRC5"
      ]
    },
    {
      "cell_type": "code",
      "metadata": {},
      "source": [
        "sample = \"MRC5\"\n",
        "workdir = \"./data/\" + data_folder + \"/\" + sample + \"/\"\n",
        "result_dir = \"./results/\" + result_folder + \"/\" + sample + '/'\n",
        "Path(result_dir).mkdir(parents=True, exist_ok=True)"
      ],
      "execution_count": null,
      "outputs": []
    },
    {
      "cell_type": "code",
      "metadata": {},
      "source": [
        "trypsin_pept_file = workdir + \"Trypsin only/peptides.txt\"\n",
        "trypsin_prot_file = workdir + \"Trypsin only/proteinGroups.txt\"\n",
        "double_pept_file = workdir + \"Double digest/peptides.txt\"\n",
        "# double_prot_file = workdir + \"Double digest/proteinGroups.txt\""
      ],
      "execution_count": null,
      "outputs": []
    },
    {
      "cell_type": "code",
      "metadata": {},
      "source": [
        "trypsin_pept = pd.read_csv(trypsin_pept_file, sep='\\t')\n",
        "trypsin_prot = pd.read_csv(trypsin_prot_file, sep='\\t')\n",
        "double_pept = pd.read_csv(double_pept_file, sep='\\t')\n",
        "# double_prot = pd.read_csv(double_prot_file, sep='\\t')"
      ],
      "execution_count": null,
      "outputs": []
    },
    {
      "cell_type": "code",
      "metadata": {},
      "source": [
        "print(double_pept.columns.to_list())\n",
        "print(trypsin_pept.columns.to_list())"
      ],
      "execution_count": null,
      "outputs": []
    },
    {
      "cell_type": "code",
      "metadata": {},
      "source": [
        "ProteinID_col_prot = \"Majority protein IDs\"\n",
        "ProteinID_col_pept = \"Leading razor protein\"\n",
        "PeptCounts_col = \"Peptide counts (all)\""
      ],
      "execution_count": null,
      "outputs": []
    },
    {
      "cell_type": "code",
      "metadata": {},
      "source": [
        "trypsin_ctrl_cols = ['LFQ intensity MRC5_C_T_Mock_1', 'LFQ intensity MRC5_C_T_Mock_2', 'LFQ intensity MRC5_C_T_Mock_3', 'LFQ intensity MRC5_C_T_Mock_4', 'LFQ intensity MRC5_C_T_Mock_5']\n",
        "trypsin_treat_cols = ['LFQ intensity MRC5_C_T_Infected_1', 'LFQ intensity MRC5_C_T_Infected_2', 'LFQ intensity MRC5_C_T_Infected_3', 'LFQ intensity MRC5_C_T_Infected_4', 'LFQ intensity MRC5_C_T_Infected_5']\n",
        "trypsin_int_cols = trypsin_ctrl_cols + trypsin_treat_cols\n",
        "double_ctrl_cols = ['LFQ intensity MRC5_C_DD_Mock_1', 'LFQ intensity MRC5_C_DD_Mock_2', 'LFQ intensity MRC5_C_DD_Mock_3', 'LFQ intensity MRC5_C_DD_Mock_4', 'LFQ intensity MRC5_C_DD_Mock_5']\n",
        "double_treat_cols = ['LFQ intensity MRC5_C_DD_Infected_1', 'LFQ intensity MRC5_C_DD_Infected_2', 'LFQ intensity MRC5_C_DD_Infected_3', 'LFQ intensity MRC5_C_DD_Infected_4', 'LFQ intensity MRC5_C_DD_Infected_5']\n",
        "double_int_cols = double_ctrl_cols + double_treat_cols"
      ],
      "execution_count": null,
      "outputs": []
    },
    {
      "cell_type": "markdown",
      "metadata": {},
      "source": [
        "## Host-pathogen Lung Primary Cells 2023-08-02"
      ]
    },
    {
      "cell_type": "code",
      "metadata": {},
      "source": [
        "data_folder = \"LIP_Primary_Exp1\"\n",
        "result_folder = str(datetime.datetime.now()) + '_' + data_folder\n",
        "fasta_file = \"./data/\" + data_folder + \"/uniprot-proteome_UP000005640+reviewed_yes.fasta\"\n",
        "prot_seq_obj = SeqIO.parse(fasta_file, \"fasta\")\n",
        "prot_seqs = [seq_item for seq_item in prot_seq_obj]\n",
        "id_separator = '@'\n",
        "sig_thr = 0.05\n",
        "adj_thr = 0.1\n",
        "sig_num_thr = 1\n",
        "prot_missing_thr = 0.5\n",
        "pept_missing_thr = 0.5\n",
        "min_pept_count = 1\n",
        "len(prot_seqs)"
      ],
      "execution_count": null,
      "outputs": []
    },
    {
      "cell_type": "code",
      "metadata": {},
      "source": [
        "prot_info_cols = ['id', 'Uniprot', 'Gene names', 'Protein names', \"Treat/Control\", \"Treat/Control_pval\", \"Scalar\"]\n",
        "info_cols = ['id', 'Sequence', 'Uniprot', 'Gene names', 'Protein names', 'Amino acid before', 'Last amino acid', 'Length', 'Start position', 'End position', 'Missed cleavages', \"Scalar\", \"Ctrl missingness\", \"Treat missingness\", \"Total missingness\", \"Control\", \"Treat\", \"Treat/Control\", \"Treat/Control_pval\", \"Treat/Control_adj-p\", \"Treat/Control_adj-p_BY\", \"Treat/Control_adj-p_bonferroni\", \"Sig Pept num\"]"
      ],
      "execution_count": null,
      "outputs": []
    },
    {
      "cell_type": "markdown",
      "metadata": {},
      "source": [
        "### Primary"
      ]
    },
    {
      "cell_type": "code",
      "metadata": {},
      "source": [
        "sample = \"Primary\"\n",
        "workdir = \"./data/\" + data_folder + \"/\" + sample + \"/\"\n",
        "result_dir = \"./results/\" + result_folder + \"/\" + sample + '/'\n",
        "Path(result_dir).mkdir(parents=True, exist_ok=True)"
      ],
      "execution_count": null,
      "outputs": []
    },
    {
      "cell_type": "code",
      "metadata": {},
      "source": [
        "trypsin_pept_file = workdir + \"Trypsin only/peptides.txt\"\n",
        "trypsin_prot_file = workdir + \"Trypsin only/proteinGroups.txt\"\n",
        "double_pept_file = workdir + \"Double digest/peptides.txt\"\n",
        "# double_prot_file = workdir + \"Double digest/proteinGroups.txt\""
      ],
      "execution_count": null,
      "outputs": []
    },
    {
      "cell_type": "code",
      "metadata": {},
      "source": [
        "trypsin_pept = pd.read_csv(trypsin_pept_file, sep='\\t')\n",
        "trypsin_prot = pd.read_csv(trypsin_prot_file, sep='\\t')\n",
        "double_pept = pd.read_csv(double_pept_file, sep='\\t')\n",
        "# double_prot = pd.read_csv(double_prot_file, sep='\\t')"
      ],
      "execution_count": null,
      "outputs": []
    },
    {
      "cell_type": "code",
      "metadata": {},
      "source": [
        "print(double_pept.columns.to_list())\n",
        "print(trypsin_pept.columns.to_list())"
      ],
      "execution_count": null,
      "outputs": []
    },
    {
      "cell_type": "code",
      "metadata": {},
      "source": [
        "ProteinID_col_prot = \"Majority protein IDs\"\n",
        "ProteinID_col_pept = \"Leading razor protein\"\n",
        "PeptCounts_col = \"Peptide counts (all)\""
      ],
      "execution_count": null,
      "outputs": []
    },
    {
      "cell_type": "code",
      "metadata": {},
      "source": [
        "trypsin_ctrl_cols = ['LFQ intensity Mock_1', 'LFQ intensity Mock_2', 'LFQ intensity Mock_3', 'LFQ intensity Mock_4', 'LFQ intensity Mock_5']\n",
        "trypsin_treat_cols = ['LFQ intensity Infected_1', 'LFQ intensity Infected_2', 'LFQ intensity Infected_3', 'LFQ intensity Infected_4', 'LFQ intensity Infected_5']\n",
        "trypsin_int_cols = trypsin_ctrl_cols + trypsin_treat_cols\n",
        "double_ctrl_cols = ['LFQ intensity Mock_1', 'LFQ intensity Mock_2', 'LFQ intensity Mock_3', 'LFQ intensity Mock_4', 'LFQ intensity Mock_5']\n",
        "double_treat_cols = ['LFQ intensity Infected_1', 'LFQ intensity Infected_2', 'LFQ intensity Infected_3', 'LFQ intensity Infected_4', 'LFQ intensity Infected_5']\n",
        "double_int_cols = double_ctrl_cols + double_treat_cols"
      ],
      "execution_count": null,
      "outputs": []
    },
    {
      "cell_type": "markdown",
      "metadata": {},
      "source": [
        "## Host-pathogen 2023-11-09"
      ]
    },
    {
      "cell_type": "code",
      "metadata": {},
      "source": [
        "data_folder = \"LiP_NuEx_Semispecific_Exp2\"\n",
        "result_folder = str(datetime.datetime.now()) + '_' + data_folder\n",
        "fasta_file = \"./data/\" + data_folder + \"/uniprot-proteome_UP000005640+reviewed_yes.fasta\"\n",
        "prot_seq_obj = SeqIO.parse(fasta_file, \"fasta\")\n",
        "prot_seqs = [seq_item for seq_item in prot_seq_obj]\n",
        "id_separator = '@'\n",
        "sig_thr = 0.05\n",
        "adj_thr = 0.1\n",
        "sig_num_thr = 1\n",
        "prot_missing_thr = 0.5\n",
        "pept_missing_thr = 0.5\n",
        "min_pept_count = 1\n",
        "len(prot_seqs)"
      ],
      "execution_count": null,
      "outputs": []
    },
    {
      "cell_type": "code",
      "metadata": {},
      "source": [
        "prot_info_cols = ['id', 'Uniprot', 'Gene names', 'Protein names', \"Treat/Control\", \"Treat/Control_pval\", \"Scalar\"]\n",
        "info_cols = ['id', 'Sequence', 'Uniprot', 'Gene names', 'Protein names', 'Amino acid before', 'Last amino acid', 'Length', 'Start position', 'End position', 'Missed cleavages', \"Scalar\", \"Ctrl missingness\", \"Treat missingness\", \"Total missingness\", \"Control\", \"Treat\", \"Treat/Control\", \"Treat/Control_pval\", \"Treat/Control_adj-p\", \"Treat/Control_adj-p_BY\", \"Treat/Control_adj-p_bonferroni\", \"Sig Pept num\"]"
      ],
      "execution_count": null,
      "outputs": []
    },
    {
      "cell_type": "markdown",
      "metadata": {},
      "source": [
        "### A549"
      ]
    },
    {
      "cell_type": "code",
      "metadata": {},
      "source": [
        "sample = \"A549\"\n",
        "workdir = \"./data/\" + data_folder + \"/\" + sample + \"/\"\n",
        "result_dir = \"./results/\" + result_folder + \"/\" + sample + '/'\n",
        "Path(result_dir).mkdir(parents=True, exist_ok=True)"
      ],
      "execution_count": null,
      "outputs": []
    },
    {
      "cell_type": "code",
      "metadata": {},
      "source": [
        "trypsin_pept_file = workdir + \"Trypsin only/peptides.txt\"\n",
        "trypsin_prot_file = workdir + \"Trypsin only/proteinGroups.txt\"\n",
        "double_pept_file = workdir + \"Double digest/peptides.txt\"\n",
        "# double_prot_file = workdir + \"Double digest/proteinGroups.txt\""
      ],
      "execution_count": null,
      "outputs": []
    },
    {
      "cell_type": "code",
      "metadata": {},
      "source": [
        "trypsin_pept = pd.read_csv(trypsin_pept_file, sep='\\t')\n",
        "trypsin_prot = pd.read_csv(trypsin_prot_file, sep='\\t')\n",
        "double_pept = pd.read_csv(double_pept_file, sep='\\t')\n",
        "# double_prot = pd.read_csv(double_prot_file, sep='\\t')"
      ],
      "execution_count": null,
      "outputs": []
    },
    {
      "cell_type": "code",
      "metadata": {},
      "source": [
        "print(double_pept.columns.to_list())\n",
        "print(trypsin_pept.columns.to_list())"
      ],
      "execution_count": null,
      "outputs": []
    },
    {
      "cell_type": "code",
      "metadata": {},
      "source": [
        "ProteinID_col_prot = \"Majority protein IDs\"\n",
        "ProteinID_col_pept = \"Leading razor protein\"\n",
        "PeptCounts_col = \"Peptide counts (all)\""
      ],
      "execution_count": null,
      "outputs": []
    },
    {
      "cell_type": "code",
      "metadata": {},
      "source": [
        "trypsin_ctrl_cols = ['LFQ intensity A549_T_Mock_1', 'LFQ intensity A549_T_Mock_2', 'LFQ intensity A549_T_Mock_3', 'LFQ intensity A549_T_Mock_4', 'LFQ intensity A549_T_Mock_5']\n",
        "trypsin_treat_cols = ['LFQ intensity A549_T_Infected_1', 'LFQ intensity A549_T_Infected_2', 'LFQ intensity A549_T_Infected_3', 'LFQ intensity A549_T_Infected_4', 'LFQ intensity A549_T_Infected_5']\n",
        "trypsin_int_cols = trypsin_ctrl_cols + trypsin_treat_cols\n",
        "double_ctrl_cols = ['LFQ intensity A549_DD_Mock_1', 'LFQ intensity A549_DD_Mock_2', 'LFQ intensity A549_DD_Mock_3', 'LFQ intensity A549_DD_Mock_4', 'LFQ intensity A549_DD_Mock_5']\n",
        "double_treat_cols = ['LFQ intensity A549_DD_Infected_1', 'LFQ intensity A549_DD_Infected_2', 'LFQ intensity A549_DD_Infected_3', 'LFQ intensity A549_DD_Infected_4', 'LFQ intensity A549_DD_Infected_5']\n",
        "double_int_cols = double_ctrl_cols + double_treat_cols"
      ],
      "execution_count": null,
      "outputs": []
    },
    {
      "cell_type": "markdown",
      "metadata": {},
      "source": [
        "### MRC5"
      ]
    },
    {
      "cell_type": "code",
      "metadata": {},
      "source": [
        "sample = \"MRC5\"\n",
        "workdir = \"./data/\" + data_folder + \"/\" + sample + \"/\"\n",
        "result_dir = \"./results/\" + result_folder + \"/\" + sample + '/'\n",
        "Path(result_dir).mkdir(parents=True, exist_ok=True)"
      ],
      "execution_count": null,
      "outputs": []
    },
    {
      "cell_type": "code",
      "metadata": {},
      "source": [
        "trypsin_pept_file = workdir + \"Trypsin only/peptides.txt\"\n",
        "trypsin_prot_file = workdir + \"Trypsin only/proteinGroups.txt\"\n",
        "double_pept_file = workdir + \"Double digest/peptides.txt\"\n",
        "# double_prot_file = workdir + \"Double digest/proteinGroups.txt\""
      ],
      "execution_count": null,
      "outputs": []
    },
    {
      "cell_type": "code",
      "metadata": {},
      "source": [
        "trypsin_pept = pd.read_csv(trypsin_pept_file, sep='\\t')\n",
        "trypsin_prot = pd.read_csv(trypsin_prot_file, sep='\\t')\n",
        "double_pept = pd.read_csv(double_pept_file, sep='\\t')\n",
        "# double_prot = pd.read_csv(double_prot_file, sep='\\t')"
      ],
      "execution_count": null,
      "outputs": []
    },
    {
      "cell_type": "code",
      "metadata": {},
      "source": [
        "print(double_pept.columns.to_list())\n",
        "print(trypsin_pept.columns.to_list())"
      ],
      "execution_count": null,
      "outputs": []
    },
    {
      "cell_type": "code",
      "metadata": {},
      "source": [
        "ProteinID_col_prot = \"Majority protein IDs\"\n",
        "ProteinID_col_pept = \"Leading razor protein\"\n",
        "PeptCounts_col = \"Peptide counts (all)\""
      ],
      "execution_count": null,
      "outputs": []
    },
    {
      "cell_type": "code",
      "metadata": {},
      "source": [
        "trypsin_ctrl_cols = ['LFQ intensity MRC5_T_Mock_1', 'LFQ intensity MRC5_T_Mock_2', 'LFQ intensity MRC5_T_Mock_3', 'LFQ intensity MRC5_T_Mock_4', 'LFQ intensity MRC5_T_Mock_5']\n",
        "trypsin_treat_cols = ['LFQ intensity MRC5_T_Infected_1', 'LFQ intensity MRC5_T_Infected_2', 'LFQ intensity MRC5_T_Infected_3', 'LFQ intensity MRC5_T_Infected_4', 'LFQ intensity MRC5_T_Infected_5']\n",
        "trypsin_int_cols = trypsin_ctrl_cols + trypsin_treat_cols\n",
        "double_ctrl_cols = ['LFQ intensity MRC5_DD_Mock_1', 'LFQ intensity MRC5_DD_Mock_2', 'LFQ intensity MRC5_DD_Mock_3', 'LFQ intensity MRC5_DD_Mock_4', 'LFQ intensity MRC5_DD_Mock_5']\n",
        "double_treat_cols = ['LFQ intensity MRC5_DD_Infected_1', 'LFQ intensity MRC5_DD_Infected_2', 'LFQ intensity MRC5_DD_Infected_3', 'LFQ intensity MRC5_DD_Infected_4', 'LFQ intensity MRC5_DD_Infected_5']\n",
        "double_int_cols = double_ctrl_cols + double_treat_cols"
      ],
      "execution_count": null,
      "outputs": []
    },
    {
      "cell_type": "markdown",
      "metadata": {},
      "source": [
        "#################################################################################\n",
        "This is where the analysis begins\n",
        "#################################################################################\n",
        "\n",
        "# The analysis pipeline\n",
        "\n",
        "## Pre-processing the data"
      ]
    },
    {
      "cell_type": "code",
      "metadata": {},
      "source": [
        "print(trypsin_pept.shape)\n",
        "print(double_pept.shape)\n",
        "print(trypsin_prot.shape)"
      ],
      "execution_count": null,
      "outputs": []
    },
    {
      "cell_type": "code",
      "metadata": {},
      "source": [
        "trypsin_pept = trypsin_pept[(trypsin_pept[\"Reverse\"].isna()) & (trypsin_pept[\"Potential contaminant\"].isna()) & (~trypsin_pept[ProteinID_col_pept].str.contains(\"(?i)Contaminant\")) & (~trypsin_pept[ProteinID_col_pept].str.contains(\"(?i)REV__\")) & (~trypsin_pept[ProteinID_col_pept].str.contains(\"(?i)CON__\"))].copy()\n",
        "\n",
        "trypsin_pept[\"Uniprot\"] = trypsin_pept[ProteinID_col_pept].copy()\n",
        "\n",
        "trypsin_prot = trypsin_prot[(trypsin_prot[\"Only identified by site\"].isna()) & (trypsin_prot[\"Reverse\"].isna()) & (trypsin_prot[\"Potential contaminant\"].isna()) & (~trypsin_prot[ProteinID_col_prot].str.contains(\"(?i)Contaminant\")) & (~trypsin_prot[ProteinID_col_prot].str.contains(\"(?i)REV__\")) & (~trypsin_prot[ProteinID_col_prot].str.contains(\"CON__\"))].copy()\n",
        "\n",
        "trypsin_prot[\"Uniprot\"] = [ids.split(';')[0] for ids in trypsin_prot[ProteinID_col_prot]]\n",
        "\n",
        "double_pept = double_pept[(double_pept[\"Reverse\"].isna()) & (double_pept[\"Potential contaminant\"].isna()) & (~double_pept[ProteinID_col_pept].str.contains(\"(?i)Contaminant\")) & (~double_pept[ProteinID_col_pept].str.contains(\"(?i)REV__\")) & (~double_pept[ProteinID_col_pept].str.contains(\"(?i)CON__\"))].copy()\n",
        "\n",
        "double_pept[\"Uniprot\"] = double_pept[ProteinID_col_pept].copy()\n",
        "\n",
        "# double_prot = double_prot[(double_prot[\"Only identified by site\"].isna()) & (double_prot[\"Reverse\"].isna()) & (double_prot[\"Potential contaminant\"].isna()) & (~double_prot[ProteinID_col_prot].str.contains(\"(?i)Contaminant\")) & (~double_prot[ProteinID_col_prot].str.contains(\"(?i)REV__\")) & (~double_prot[ProteinID_col_prot].str.contains(\"(?i)CON__\"))]\n",
        "\n",
        "# double_prot[\"Uniprot\"] = [ids.split(';')[0] for ids in double_prot[ProteinID_col_prot]]"
      ],
      "execution_count": null,
      "outputs": []
    },
    {
      "cell_type": "code",
      "metadata": {},
      "source": [
        "print(trypsin_pept.shape)\n",
        "print(double_pept.shape)\n",
        "print(trypsin_prot.shape)"
      ],
      "execution_count": null,
      "outputs": []
    },
    {
      "cell_type": "code",
      "metadata": {},
      "source": [
        "# Filtering out the protein groups with less than 2 peptides\n",
        "trypsin_prot[\"Pept count\"] = [int(count.split(';')[0]) for count in trypsin_prot[PeptCounts_col]]\n",
        "trypsin_prot = trypsin_prot[trypsin_prot[\"Pept count\"] >= min_pept_count].copy()\n",
        "print(trypsin_prot.shape)"
      ],
      "execution_count": null,
      "outputs": []
    },
    {
      "cell_type": "code",
      "metadata": {},
      "source": [
        "trypsin_pept[trypsin_int_cols] = np.log2(trypsin_pept[trypsin_int_cols].replace(0, np.nan))\n",
        "double_pept[double_int_cols] = np.log2(double_pept[double_int_cols].replace(0, np.nan))\n",
        "trypsin_prot[trypsin_int_cols] = np.log2(trypsin_prot[trypsin_int_cols].replace(0, np.nan))\n",
        "# double_prot[double_int_cols] = np.log2(double_prot[double_int_cols].replace(0, np.nan))"
      ],
      "execution_count": null,
      "outputs": []
    },
    {
      "cell_type": "code",
      "metadata": {},
      "source": [
        "# Filtering by missingness\n",
        "trypsin_prot[\"Ctrl missingness\"] = trypsin_prot[trypsin_ctrl_cols].isna().sum(axis=1)\n",
        "trypsin_prot[\"Treat missingness\"] = trypsin_prot[trypsin_treat_cols].isna().sum(axis=1)\n",
        "trypsin_prot[\"Total missingness\"] = trypsin_prot[\"Ctrl missingness\"] + trypsin_prot[\"Treat missingness\"]\n",
        "# trypsin_prot[\"Total missingness\"] = trypsin_prot[trypsin_int_cols].isna().sum(axis=1)\n",
        "trypsin_prot = trypsin_prot[~((trypsin_prot[\"Ctrl missingness\"] > prot_missing_thr * len(trypsin_ctrl_cols)) | (trypsin_prot[\"Treat missingness\"] > prot_missing_thr * len(trypsin_treat_cols)))].copy()\n",
        "print(trypsin_prot.shape)"
      ],
      "execution_count": null,
      "outputs": []
    },
    {
      "cell_type": "code",
      "metadata": {},
      "source": [
        "median_correction_T = trypsin_pept[trypsin_int_cols].median(axis=0, skipna=True) - trypsin_pept[trypsin_int_cols].median(axis=0, skipna=True).mean()\n",
        "median_correction_DD = double_pept[double_int_cols].median(axis=0, skipna=True) - double_pept[double_int_cols].median(axis=0, skipna=True).mean()\n",
        "median_correction_prot = trypsin_prot[trypsin_int_cols].median(axis=0, skipna=True) - trypsin_prot[trypsin_int_cols].median(axis=0, skipna=True).mean()"
      ],
      "execution_count": null,
      "outputs": []
    },
    {
      "cell_type": "code",
      "metadata": {},
      "source": [
        "trypsin_pept[trypsin_int_cols] = trypsin_pept[trypsin_int_cols].sub(median_correction_T, axis=1)  \n",
        "double_pept[double_int_cols] = double_pept[double_int_cols].sub(median_correction_DD, axis=1)  \n",
        "trypsin_prot[trypsin_int_cols] = trypsin_prot[trypsin_int_cols].sub(median_correction_prot, axis=1)  "
      ],
      "execution_count": null,
      "outputs": []
    },
    {
      "cell_type": "code",
      "metadata": {},
      "source": [
        "# trypsin_pept[\"Uniprot\"] = [[splited.split('|')[0] for splited in id.split(';')] for id in trypsin_pept[\"Uniprot\"]]\n",
        "# trypsin_pept = trypsin_pept.explode(\"Uniprot\")\n",
        "# double_pept[\"Uniprot\"] = [[splited for splited in id.split(';')] for id in double_pept[\"Uniprot\"]]\n",
        "# double_pept = double_pept.explode(\"Uniprot\")\n",
        "# trypsin_prot[\"Uniprot\"] = [[splited.split('|')[1] for splited in id.split(';')] for id in trypsin_prot[\"majority.protein.ids\"]]\n",
        "# trypsin_prot = trypsin_prot.explode(\"Uniprot\")"
      ],
      "execution_count": null,
      "outputs": []
    },
    {
      "cell_type": "code",
      "metadata": {},
      "source": [
        "trypsin_pept[\"id\"] = trypsin_pept[\"Uniprot\"] + id_separator + trypsin_pept[\"Sequence\"]\n",
        "double_pept[\"id\"] = double_pept[\"Uniprot\"] + id_separator + double_pept[\"Sequence\"]\n",
        "trypsin_prot[\"id\"] = trypsin_prot[\"Uniprot\"]"
      ],
      "execution_count": null,
      "outputs": []
    },
    {
      "cell_type": "code",
      "metadata": {},
      "source": [
        "trypsin_pept.index = trypsin_pept[\"id\"]\n",
        "double_pept.index = double_pept[\"id\"]\n",
        "trypsin_prot.index = trypsin_prot[\"id\"]"
      ],
      "execution_count": null,
      "outputs": []
    },
    {
      "cell_type": "markdown",
      "metadata": {},
      "source": [
        "## Analyzing the data"
      ]
    },
    {
      "cell_type": "code",
      "metadata": {},
      "source": [
        "trypsin_prot[\"Treat/Control\"] = (trypsin_prot[trypsin_treat_cols].mean(axis=1) - trypsin_prot[trypsin_ctrl_cols].mean(axis=1)).fillna(0)\n",
        "\n",
        "trypsin_prot[\"Treat/Control_pval\"] = sp.stats.ttest_ind(trypsin_prot[trypsin_treat_cols], trypsin_prot[trypsin_ctrl_cols], axis=1, nan_policy='omit').pvalue\n",
        "# trypsin_prot[\"Treat/Control_pval\"] = trypsin_prot[\"Treat/Control_pval\"].fillna(0)\n",
        "\n",
        "# trypsin_prot[\"Treat/Control_adj-p\"] = adjusted_p_value(trypsin_prot[\"Treat/Control_pval\"])\n",
        "trypsin_prot[\"Treat/Control_adj-p\"] = sp.stats.false_discovery_control(trypsin_prot[\"Treat/Control_pval\"].fillna(1))\n",
        "trypsin_prot[\"Treat/Control_adj-p_BY\"] = sp.stats.false_discovery_control(trypsin_prot[\"Treat/Control_pval\"].fillna(1), method = 'by')\n",
        "trypsin_prot[\"Treat/Control_adj-p_bonferroni\"] = multitest.multipletests(trypsin_prot[\"Treat/Control_pval\"].fillna(1), method='bonferroni')[1]\n",
        "\n",
        "trypsin_prot[\"Scalar\"] = [trypsin_prot[\"Treat/Control\"][i] if p < sig_thr else 0 for i,p in enumerate(trypsin_prot[\"Treat/Control_pval\"])]\n",
        "\n",
        "scalar_dict = dict(zip(trypsin_prot.index, trypsin_prot[\"Scalar\"]))\n",
        "print(trypsin_prot.shape)"
      ],
      "execution_count": null,
      "outputs": []
    },
    {
      "cell_type": "code",
      "metadata": {},
      "source": [
        "double_pept_w = double_pept.copy()\n",
        "double_pept_w[\"Scalar\"] = [scalar_dict.get(uniprot_id, 0) for uniprot_id in double_pept_w[\"Uniprot\"]]\n",
        "double_pept_w[double_treat_cols] = double_pept_w[double_treat_cols].subtract(double_pept_w[\"Scalar\"], axis=0)\n",
        "print(double_pept_w.shape)\n",
        "double_pept_w[\"Ctrl missingness\"] = double_pept_w[double_ctrl_cols].isna().sum(axis=1)\n",
        "double_pept_w[\"Treat missingness\"] = double_pept_w[double_treat_cols].isna().sum(axis=1)\n",
        "double_pept_w[\"Total missingness\"] = double_pept_w[\"Ctrl missingness\"] + double_pept_w[\"Treat missingness\"]\n",
        "double_pept_w = double_pept_w[double_pept_w[\"Total missingness\"] < len(double_int_cols)].copy()\n",
        "print(double_pept_w.shape)\n",
        "double_pept_w = double_pept_w[~((double_pept_w[\"Ctrl missingness\"] > pept_missing_thr * len(double_ctrl_cols)) & (double_pept_w[\"Ctrl missingness\"] < len(double_ctrl_cols))) & ~((double_pept_w[\"Treat missingness\"] > pept_missing_thr * len(double_treat_cols)) & (double_pept_w[\"Treat missingness\"] < len(double_treat_cols)))].copy()\n",
        "print(double_pept_w.shape)\n",
        "# double_pept_w[double_int_cols] = double_pept_w[double_int_cols].fillna(0)\n",
        "double_pept_w[\"Control\"] = double_pept_w[double_ctrl_cols].mean(axis=1).fillna(0)\n",
        "double_pept_w[\"Treat\"] = double_pept_w[double_treat_cols].mean(axis=1).fillna(0)\n",
        "double_pept_w[\"Treat/Control\"] = double_pept_w[\"Treat\"] - double_pept_w[\"Control\"]\n",
        "double_pept_w[\"Treat/Control_pval\"] = sp.stats.ttest_ind(double_pept_w[double_treat_cols], double_pept_w[double_ctrl_cols], axis=1, nan_policy='omit').pvalue\n",
        "double_pept_w[\"Treat/Control_pval\"].fillna(0, inplace=True)\n",
        "\n",
        "# fillna0 = sp.stats.false_discovery_control(double_pept_w[\"Treat/Control_pval\"].fillna(0))\n",
        "# fillna1 = sp.stats.false_discovery_control(double_pept_w[\"Treat/Control_pval\"].fillna(1))\n",
        "# dropna = sp.stats.false_discovery_control(double_pept_w[\"Treat/Control_pval\"].dropna())\n",
        "# len(fillna0[fillna0 < 0.05])\n",
        "# len(fillna1[fillna1 < 0.05])\n",
        "# len(dropna[dropna < 0.05])\n",
        "\n",
        "double_pept_w[\"Treat/Control_adj-p\"] = sp.stats.false_discovery_control(double_pept_w[\"Treat/Control_pval\"].fillna(0))\n",
        "double_pept_w[\"Treat/Control_adj-p_BY\"] = sp.stats.false_discovery_control(double_pept_w[\"Treat/Control_pval\"].fillna(0), method = 'by')\n",
        "double_pept_w[\"Treat/Control_adj-p_bonferroni\"] = multitest.multipletests(double_pept_w[\"Treat/Control_pval\"].fillna(0), method='bonferroni')[1]\n",
        "print(double_pept_w.shape)\n",
        "double_pept_sig = double_pept_w[double_pept_w[\"Treat/Control_pval\"] < sig_thr].copy()\n",
        "print(double_pept_sig.shape)\n",
        "double_pept_nmrc = double_pept_w[~((double_pept_w[\"Ctrl missingness\"] > pept_missing_thr * len(double_ctrl_cols))\n",
        "                                    | (double_pept_w[\"Treat missingness\"] > pept_missing_thr * len(double_treat_cols)))].copy()\n",
        "print(double_pept_nmrc.shape)\n",
        "double_pept_sig_nmrc = double_pept_nmrc[(double_pept_w[\"Treat/Control_pval\"] < sig_thr)].copy()\n",
        "print(double_pept_sig_nmrc.shape)"
      ],
      "execution_count": null,
      "outputs": []
    },
    {
      "cell_type": "code",
      "metadata": {},
      "source": [
        "double_pept_sig_num_dict = double_pept_sig[\"Uniprot\"].value_counts().to_dict()\n",
        "double_pept_sig[\"Sig Pept num\"] = [double_pept_sig_num_dict.get(k, 0) for k in double_pept_sig[\"Uniprot\"]]\n",
        "double_pept_w[\"Sig Pept num\"] = [double_pept_sig_num_dict.get(k, 0) for k in double_pept_w[\"Uniprot\"]]\n",
        "double_uniprot_ids = list(set(double_pept_w[\"Uniprot\"]))\n",
        "double_sig_uniprot_ids = list(set(double_pept_sig[\"Uniprot\"]))\n",
        "double_top_sig_uniprot_ids = [k for k,v in double_pept_sig_num_dict.items() if v > sig_num_thr]"
      ],
      "execution_count": null,
      "outputs": []
    },
    {
      "cell_type": "code",
      "metadata": {},
      "source": [
        "double_pept_sig_nmrc_num_dict = double_pept_sig_nmrc[\"Uniprot\"].value_counts().to_dict()\n",
        "double_pept_sig_nmrc[\"Sig Pept num\"] = [double_pept_sig_nmrc_num_dict.get(k, 0) for k in double_pept_sig_nmrc[\"Uniprot\"]]\n",
        "double_pept_nmrc[\"Sig Pept num\"] = [double_pept_sig_nmrc_num_dict.get(k, 0) for k in double_pept_nmrc[\"Uniprot\"]]\n",
        "DD_nmrc_uniprot_ids = list(set(double_pept_nmrc[\"Uniprot\"]))\n",
        "double_sig_nmrc_uniprot_ids = list(set(double_pept_sig_nmrc[\"Uniprot\"]))\n",
        "double_top_sig_nmrc_uniprot_ids = [k for k,v in double_pept_sig_nmrc_num_dict.items() if v > sig_num_thr]"
      ],
      "execution_count": null,
      "outputs": []
    },
    {
      "cell_type": "code",
      "metadata": {},
      "source": [
        "trypsin_pept_w = trypsin_pept.copy()\n",
        "trypsin_pept_w[\"Scalar\"] = [scalar_dict.get(uniprot_id, 0) for uniprot_id in trypsin_pept_w[\"Uniprot\"]]\n",
        "trypsin_pept_w[trypsin_treat_cols] = trypsin_pept_w[trypsin_treat_cols].subtract(trypsin_pept_w[\"Scalar\"], axis=0)\n",
        "print(trypsin_pept_w.shape)\n",
        "trypsin_pept_w[\"Ctrl missingness\"] = trypsin_pept_w[trypsin_ctrl_cols].isna().sum(axis=1)\n",
        "trypsin_pept_w[\"Treat missingness\"] = trypsin_pept_w[trypsin_treat_cols].isna().sum(axis=1)\n",
        "trypsin_pept_w[\"Total missingness\"] = trypsin_pept_w[\"Ctrl missingness\"] + trypsin_pept_w[\"Treat missingness\"]\n",
        "trypsin_pept_w = trypsin_pept_w[trypsin_pept_w[\"Total missingness\"] < len(trypsin_int_cols)].copy()\n",
        "print(trypsin_pept_w.shape)\n",
        "trypsin_pept_w = trypsin_pept_w[~((trypsin_pept_w[\"Ctrl missingness\"] > pept_missing_thr * len(trypsin_ctrl_cols)) & (trypsin_pept_w[\"Ctrl missingness\"] < len(trypsin_ctrl_cols))) & ~((trypsin_pept_w[\"Treat missingness\"] > pept_missing_thr * len(trypsin_treat_cols)) & (trypsin_pept_w[\"Treat missingness\"] < len(trypsin_treat_cols)))].copy()\n",
        "# trypsin_pept_w = trypsin_pept_w[~(trypsin_pept_w[\"Total missingness\"] > pept_missing_thr * len(trypsin_int_cols))].copy()\n",
        "print(trypsin_pept_w.shape)\n",
        "# trypsin_pept_w[trypsin_int_cols] = trypsin_pept_w[trypsin_int_cols].fillna(0)\n",
        "trypsin_pept_w[\"Control\"] = trypsin_pept_w[trypsin_ctrl_cols].mean(axis=1).fillna(0)\n",
        "trypsin_pept_w[\"Treat\"] = trypsin_pept_w[trypsin_treat_cols].mean(axis=1).fillna(0)\n",
        "trypsin_pept_w[\"Treat/Control\"] = trypsin_pept_w[\"Treat\"] - trypsin_pept_w[\"Control\"]\n",
        "trypsin_pept_w[\"Treat/Control_pval\"] = sp.stats.ttest_ind(trypsin_pept_w[trypsin_treat_cols], trypsin_pept_w[trypsin_ctrl_cols], axis=1, nan_policy='omit').pvalue\n",
        "# trypsin_pept_w[\"Treat/Control_pval\"].fillna(1, inplace=True)\n",
        "trypsin_pept_w[\"Treat/Control_adj-p\"] = sp.stats.false_discovery_control(trypsin_pept_w[\"Treat/Control_pval\"].fillna(1))\n",
        "trypsin_pept_w[\"Treat/Control_adj-p_BY\"] = sp.stats.false_discovery_control(trypsin_pept_w[\"Treat/Control_pval\"].fillna(1), method = 'by')\n",
        "trypsin_pept_w[\"Treat/Control_adj-p_bonferroni\"] = multitest.multipletests(trypsin_pept_w[\"Treat/Control_pval\"].fillna(1), method='bonferroni')[1]\n",
        "print(trypsin_pept_w.shape)\n",
        "trypsin_pept_sig = trypsin_pept_w[trypsin_pept_w[\"Treat/Control_pval\"] < sig_thr].copy()\n",
        "print(trypsin_pept_sig.shape)\n",
        "trypsin_pept_nmrc = trypsin_pept_w[((trypsin_pept_w[\"Ctrl missingness\"] < pept_missing_thr * len(trypsin_ctrl_cols))\n",
        "                                    & (trypsin_pept_w[\"Treat missingness\"] < pept_missing_thr * len(trypsin_treat_cols)))].copy()\n",
        "print(trypsin_pept_nmrc.shape)\n",
        "trypsin_pept_sig_nmrc = trypsin_pept_w[((trypsin_pept_w[\"Treat/Control_pval\"] < sig_thr) \n",
        "                                    & (trypsin_pept_w[\"Ctrl missingness\"] < pept_missing_thr * len(trypsin_ctrl_cols))\n",
        "                                    & (trypsin_pept_w[\"Treat missingness\"] < pept_missing_thr * len(trypsin_treat_cols)))].copy()\n",
        "print(trypsin_pept_sig_nmrc.shape)"
      ],
      "execution_count": null,
      "outputs": []
    },
    {
      "cell_type": "code",
      "metadata": {},
      "source": [
        "trypsin_pept_sig_num_dict = trypsin_pept_sig[\"Uniprot\"].value_counts().to_dict()\n",
        "trypsin_pept_sig[\"Sig Pept num\"] = [trypsin_pept_sig_num_dict.get(k, 0) for k in trypsin_pept_sig[\"Uniprot\"]]\n",
        "trypsin_pept_w[\"Sig Pept num\"] = [trypsin_pept_sig_num_dict.get(k, 0) for k in trypsin_pept_w[\"Uniprot\"]]\n",
        "trypsin_uniprot_ids = list(set(trypsin_pept_w[\"Uniprot\"]))\n",
        "trypsin_sig_uniprot_ids = list(set(trypsin_pept_sig[\"Uniprot\"]))\n",
        "trypsin_top_sig_uniprot_ids = [k for k,v in trypsin_pept_sig_num_dict.items() if v >= sig_num_thr]"
      ],
      "execution_count": null,
      "outputs": []
    },
    {
      "cell_type": "code",
      "metadata": {},
      "source": [
        "trypsin_pept_sig_nmrc_num_dict = trypsin_pept_sig_nmrc[\"Uniprot\"].value_counts().to_dict()\n",
        "trypsin_pept_sig_nmrc[\"Sig Pept num\"] = [trypsin_pept_sig_nmrc_num_dict.get(k, 0) for k in trypsin_pept_sig_nmrc[\"Uniprot\"]]\n",
        "trypsin_pept_nmrc[\"Sig Pept num\"] = [trypsin_pept_sig_nmrc_num_dict.get(k, 0) for k in trypsin_pept_nmrc[\"Uniprot\"]]\n",
        "T_nmrc_uniprot_ids = list(set(trypsin_pept_nmrc[\"Uniprot\"]))\n",
        "trypsin_sig_nmrc_uniprot_ids = list(set(trypsin_pept_sig_nmrc[\"Uniprot\"]))\n",
        "trypsin_top_sig_nmrc_uniprot_ids = [k for k,v in trypsin_pept_sig_nmrc_num_dict.items() if v > sig_num_thr]"
      ],
      "execution_count": null,
      "outputs": []
    },
    {
      "cell_type": "code",
      "metadata": {},
      "source": [
        "prot_trypsin_cols = prot_info_cols + trypsin_int_cols\n",
        "trypsin_cols = info_cols + trypsin_int_cols\n",
        "double_cols = info_cols + double_int_cols"
      ],
      "execution_count": null,
      "outputs": []
    },
    {
      "cell_type": "code",
      "metadata": {},
      "source": [
        "trypsin_prot[prot_trypsin_cols].to_csv(result_dir + sample + \"_trypsin_prot_norm.tsv\", sep='\\t', index=None)\n",
        "trypsin_prot[prot_trypsin_cols].to_pickle(result_dir + sample + \"_trypsin_prot_norm.pkl\")\n",
        "double_pept_w[double_cols].to_csv(result_dir + sample + \"_double_pept_norm.tsv\", sep='\\t', index=None)\n",
        "double_pept_w[double_cols].to_pickle(result_dir + sample + \"_double_pept_norm.pkl\")\n",
        "double_pept_sig[double_cols].to_csv(result_dir + sample + \"_double_pept_norm_sig.tsv\", sep='\\t', index=None)\n",
        "double_pept_sig[double_cols].to_pickle(result_dir + sample + \"_double_pept_norm_sig.pkl\")\n",
        "double_pept_nmrc[double_cols].to_csv(result_dir + sample + \"_double_pept_norm_nmrc.tsv\", sep='\\t', index=None)\n",
        "double_pept_nmrc[double_cols].to_pickle(result_dir + sample + \"_double_pept_norm_nmrc.pkl\")\n",
        "double_pept_sig_nmrc[double_cols].to_csv(result_dir + sample + \"_double_pept_norm_sig_nmrc.tsv\", sep='\\t', index=None)\n",
        "double_pept_sig_nmrc[double_cols].to_pickle(result_dir + sample + \"_double_pept_norm_sig_nmrc.pkl\")\n",
        "trypsin_pept_w[trypsin_cols].to_csv(result_dir + sample + \"_trypsin_pept_norm.tsv\", sep='\\t', index=None)\n",
        "trypsin_pept_w[trypsin_cols].to_pickle(result_dir + sample + \"_trypsin_pept_norm.pkl\")\n",
        "trypsin_pept_sig[trypsin_cols].to_csv(result_dir + sample + \"_trypsin_pept_norm_sig.tsv\", sep='\\t', index=None)\n",
        "trypsin_pept_sig[trypsin_cols].to_pickle(result_dir + sample + \"_trypsin_pept_norm_sig.pkl\")\n",
        "trypsin_pept_nmrc[trypsin_cols].to_csv(result_dir + sample + \"_trypsin_pept_norm_nmrc.tsv\", sep='\\t', index=None)\n",
        "trypsin_pept_nmrc[trypsin_cols].to_pickle(result_dir + sample + \"_trypsin_pept_norm_nmrc.pkl\")\n",
        "trypsin_pept_sig_nmrc[trypsin_cols].to_csv(result_dir + sample + \"_trypsin_pept_norm_sig_nmrc.tsv\", sep='\\t', index=None)\n",
        "trypsin_pept_sig_nmrc[trypsin_cols].to_pickle(result_dir + sample + \"_trypsin_pept_norm_sig_nmrc.pkl\")\n",
        "trypsin_prot = pd.read_pickle(result_dir + sample + \"_trypsin_prot_norm.pkl\")\n",
        "double_pept_w = pd.read_pickle(result_dir + sample + \"_double_pept_norm.pkl\")\n",
        "double_pept_sig = pd.read_pickle(result_dir + sample + \"_double_pept_norm_sig.pkl\")\n",
        "double_pept_nmrc = pd.read_pickle(result_dir + sample + \"_double_pept_norm_nmrc.pkl\")\n",
        "double_pept_sig_nmrc = pd.read_pickle(result_dir + sample + \"_double_pept_norm_sig_nmrc.pkl\")\n",
        "trypsin_pept_w = pd.read_pickle(result_dir + sample + \"_trypsin_pept_norm.pkl\")\n",
        "trypsin_pept_sig = pd.read_pickle(result_dir + sample + \"_trypsin_pept_norm_sig.pkl\")\n",
        "trypsin_pept_nmrc = pd.read_pickle(result_dir + sample + \"_trypsin_pept_norm_nmrc.pkl\")\n",
        "trypsin_pept_sig_nmrc = pd.read_pickle(result_dir + sample + \"_trypsin_pept_norm_sig_nmrc.pkl\")"
      ],
      "execution_count": null,
      "outputs": []
    },
    {
      "cell_type": "code",
      "metadata": {},
      "source": [
        "max_sig_num = max(double_pept_sig_num_dict.values())\n",
        "sig_dist = np.array([[i, len([k for k,v in double_pept_sig_num_dict.items() if v > i])] for i in range(max_sig_num)])"
      ],
      "execution_count": null,
      "outputs": []
    },
    {
      "cell_type": "code",
      "metadata": {},
      "source": [
        "plt.bar(sig_dist[:,0], sig_dist[:,1])\n",
        "plt.yscale(\"log\")\n",
        "plt.ylabel(\"# of proteins\")\n",
        "plt.xlabel(\"Minimal number of sig pept per protein\")\n",
        "plt.savefig(result_dir + sample + \"_sig_pept_num_dist.pdf\")\n",
        "plt.close()"
      ],
      "execution_count": null,
      "outputs": []
    },
    {
      "cell_type": "code",
      "metadata": {},
      "source": [
        "from matplotlib_venn import venn2"
      ],
      "execution_count": null,
      "outputs": []
    },
    {
      "cell_type": "code",
      "metadata": {},
      "source": [
        "prot_change = set(trypsin_prot[trypsin_prot[\"Treat/Control_pval\"] < sig_thr][\"Uniprot\"])\n",
        "pept_change = set(double_pept_w[double_pept_w[\"Treat/Control_pval\"] < sig_thr][\"Uniprot\"])\n",
        "venn2([prot_change, pept_change], (\"Abundance change\", \"Structural change\"))\n",
        "plt.savefig(result_dir + sample + \"_changes_wo_filter_missingness.pdf\")\n",
        "plt.show()\n",
        "plt.close()"
      ],
      "execution_count": null,
      "outputs": []
    },
    {
      "cell_type": "code",
      "metadata": {},
      "source": [
        "prot_change = set(trypsin_prot[trypsin_prot[\"Treat/Control_pval\"] < sig_thr][\"Uniprot\"])\n",
        "pept_change = set(double_pept_nmrc[double_pept_nmrc[\"Treat/Control_pval\"] < sig_thr][\"Uniprot\"])\n",
        "venn2([prot_change, pept_change], (\"Abundance change\", \"Structural change\"))\n",
        "plt.savefig(result_dir + sample + \"_changes_wt_filter_missingness.pdf\")\n",
        "plt.show()\n",
        "plt.close()"
      ],
      "execution_count": null,
      "outputs": []
    },
    {
      "cell_type": "markdown",
      "metadata": {},
      "source": [
        "#### Aligning the peptides"
      ]
    },
    {
      "cell_type": "code",
      "metadata": {},
      "source": [
        "pept_dir = result_dir + sample + \"_pept_alignment/\"\n",
        "Path(pept_dir).mkdir(parents=True, exist_ok=True)"
      ],
      "execution_count": null,
      "outputs": []
    },
    {
      "cell_type": "code",
      "metadata": {},
      "source": [
        "for uniprot_id in double_top_sig_uniprot_ids:\n",
        "    # uniprot_id = double_top_sig_uniprot_ids[0]\n",
        "    if '|' in uniprot_id:\n",
        "        prot_seq_search = [seq for seq in prot_seqs if seq.id == uniprot_id]\n",
        "    else:\n",
        "        prot_seq_search = [seq for seq in prot_seqs if seq.id.split('|')[1] == uniprot_id]\n",
        "    if len(prot_seq_search) != 0:\n",
        "        prot_seq = prot_seq_search[0]\n",
        "        sequence = str(prot_seq.seq)\n",
        "        seq_len = len(sequence)\n",
        "        protein = double_pept_w[double_pept_w[\"Uniprot\"] == uniprot_id].copy()\n",
        "        protein.reset_index(drop=True, inplace=True)\n",
        "        clean_pepts = [strip_peptide(pept, nip_off=False) for pept in protein[\"Sequence\"].to_list()]\n",
        "        pept_start = [sequence.find(clean_pept) + 1 for clean_pept in clean_pepts]\n",
        "        pept_end = [sequence.find(clean_pept) + len(clean_pept) for clean_pept in clean_pepts]\n",
        "        protein[\"pept_start\"] = pept_start\n",
        "        protein[\"pept_end\"] = pept_end\n",
        "        # protein[\"front_lytic\"] = [prot_seq[i-2] for i in pept_start]\n",
        "        # protein[\"end_lytic\"] = [prot_seq[i-1] for i in pept_end]\n",
        "        protein[\"pept_type\"] = [\"Tryptic\" if ((prot_seq[i-2] in \"KR\" or i == 2) and (prot_seq[j-1] in \"KR\" or j == seq_len)) else \"Semi-tryptic\" if (prot_seq[i-2] in \"KR\" or prot_seq[j-1] in \"KR\") else \"Non-tryptic\" for i,j in zip(pept_start, pept_end)]\n",
        "        protein = protein[protein[\"pept_type\"] != \"Non-tryptic\"].copy()\n",
        "        protein.reset_index(drop=True, inplace=True)\n",
        "        protein[\"pept_id\"] = [str(protein[\"pept_start\"].to_list()[i]).zfill(4) + '-' + str(protein[\"pept_end\"].to_list()[i]).zfill(4) + '@' + pept for i, pept in enumerate(protein[\"Sequence\"].to_list())]\n",
        "        # protein\n",
        "        ceiled_fc = [3 if i > 3 else -3 if i < -3 else i for i in protein[\"Treat/Control\"].to_list()]\n",
        "        foldchanges = np.zeros((protein.shape[0], seq_len))\n",
        "        for i in range(len(foldchanges)):\n",
        "            foldchanges[i, (protein[\"pept_start\"].to_list()[i] - 1):(protein[\"pept_end\"].to_list()[i] - 1)] = ceiled_fc[i]\n",
        "        fc_df = pd.DataFrame(foldchanges, index=protein[\"pept_id\"], columns=[aa + str(i + 1) for i, aa in enumerate(list(sequence))]).sort_index().replace({0:np.nan})\n",
        "\n",
        "        plt.figure(figsize=(min(max(math.floor(seq_len/3), 5), 10), min(max(math.floor(protein.shape[0]/5), 3),6)))\n",
        "        sns.heatmap(fc_df,center=0, cmap=\"coolwarm\")\n",
        "        plt.tight_layout()\n",
        "        plt.savefig(pept_dir + uniprot_id.replace('|','-') + \"_double_pept_fc_alignments.pdf\")\n",
        "        plt.close()"
      ],
      "execution_count": null,
      "outputs": []
    },
    {
      "cell_type": "code",
      "metadata": {},
      "source": [
        "for uniprot_id in double_top_sig_uniprot_ids:\n",
        "    # uniprot_id = double_top_sig_uniprot_ids[0]\n",
        "    if '|' in uniprot_id:\n",
        "        prot_seq_search = [seq for seq in prot_seqs if seq.id == uniprot_id]\n",
        "    else:\n",
        "        prot_seq_search = [seq for seq in prot_seqs if seq.id.split('|')[1] == uniprot_id]\n",
        "    if len(prot_seq_search) != 0:\n",
        "        prot_seq = prot_seq_search[0]\n",
        "        sequence = str(prot_seq.seq)\n",
        "        seq_len = len(sequence)\n",
        "        protein = double_pept_sig[double_pept_sig[\"Uniprot\"] == uniprot_id].copy()\n",
        "        protein.reset_index(drop=True, inplace=True)\n",
        "        clean_pepts = [strip_peptide(pept, nip_off=False) for pept in protein[\"Sequence\"].to_list()]\n",
        "        pept_start = [sequence.find(clean_pept) + 1 for clean_pept in clean_pepts]\n",
        "        pept_end = [sequence.find(clean_pept) + len(clean_pept) for clean_pept in clean_pepts]\n",
        "        protein[\"pept_start\"] = pept_start\n",
        "        protein[\"pept_end\"] = pept_end\n",
        "        # protein[\"front_lytic\"] = [prot_seq[i-2] for i in pept_start]\n",
        "        # protein[\"end_lytic\"] = [prot_seq[i-1] for i in pept_end]\n",
        "        protein[\"pept_type\"] = [\"Tryptic\" if ((prot_seq[i-2] in \"KR\" or i == 2) and (prot_seq[j-1] in \"KR\" or j == seq_len)) else \"Semi-tryptic\" if (prot_seq[i-2] in \"KR\" or prot_seq[j-1] in \"KR\") else \"Non-tryptic\" for i,j in zip(pept_start, pept_end)]\n",
        "        protein = protein[protein[\"pept_type\"] != \"Non-tryptic\"].copy()\n",
        "        if protein.shape[0] > 0:\n",
        "            protein.reset_index(drop=True, inplace=True)\n",
        "            protein[\"pept_id\"] = [str(protein[\"pept_start\"].to_list()[i]).zfill(4) + '-' + str(protein[\"pept_end\"].to_list()[i]).zfill(4) + '@' + pept for i, pept in enumerate(protein[\"Sequence\"].to_list())]\n",
        "            # protein\n",
        "            ceiled_fc = [3 if i > 3 else -3 if i < -3 else i for i in protein[\"Treat/Control\"].to_list()]\n",
        "            foldchanges = np.zeros((protein.shape[0], seq_len))\n",
        "            for i in range(len(foldchanges)):\n",
        "                foldchanges[i, (protein[\"pept_start\"].to_list()[i] - 1):(protein[\"pept_end\"].to_list()[i] - 1)] = ceiled_fc[i]\n",
        "            fc_df = pd.DataFrame(foldchanges, index=protein[\"pept_id\"], columns=[aa + str(i + 1) for i, aa in enumerate(list(sequence))]).sort_index().replace({0:np.nan})\n",
        "\n",
        "            plt.figure(figsize=(min(max(math.floor(seq_len/3), 5), 10), min(max(math.floor(protein.shape[0]/5), 3),6)))\n",
        "            sns.heatmap(fc_df,center=0, cmap=\"coolwarm\")\n",
        "            plt.tight_layout()\n",
        "            plt.savefig(pept_dir + uniprot_id.replace('|','-') + \"_double_sig_pept_fc_alignments.pdf\")\n",
        "            plt.close()"
      ],
      "execution_count": null,
      "outputs": []
    },
    {
      "cell_type": "code",
      "metadata": {},
      "source": [
        "for uniprot_id in double_top_sig_uniprot_ids:\n",
        "    # uniprot_id = double_top_sig_uniprot_ids[0]\n",
        "    if '|' in uniprot_id:\n",
        "        prot_seq_search = [seq for seq in prot_seqs if seq.id == uniprot_id]\n",
        "    else:\n",
        "        prot_seq_search = [seq for seq in prot_seqs if seq.id.split('|')[1] == uniprot_id]\n",
        "    if len(prot_seq_search) != 0:\n",
        "        prot_seq = prot_seq_search[0]\n",
        "        sequence = str(prot_seq.seq)\n",
        "        seq_len = len(sequence)\n",
        "        protein = double_pept_sig[double_pept_sig[\"Uniprot\"] == uniprot_id].copy()\n",
        "        protein.reset_index(drop=True, inplace=True)\n",
        "        clean_pepts = [strip_peptide(pept, nip_off=False) for pept in protein[\"Sequence\"].to_list()]\n",
        "        pept_start = [sequence.find(clean_pept) + 1 for clean_pept in clean_pepts]\n",
        "        pept_end = [sequence.find(clean_pept) + len(clean_pept) for clean_pept in clean_pepts]\n",
        "        protein[\"pept_start\"] = pept_start\n",
        "        protein[\"pept_end\"] = pept_end\n",
        "        # protein[\"front_lytic\"] = [prot_seq[i-2] for i in pept_start]\n",
        "        # protein[\"end_lytic\"] = [prot_seq[i-1] for i in pept_end]\n",
        "        protein[\"pept_type\"] = [\"Tryptic\" if ((prot_seq[i-2] in \"KR\" or i == 2) and (prot_seq[j-1] in \"KR\" or j == seq_len)) else \"Semi-tryptic\" if (prot_seq[i-2] in \"KR\" or prot_seq[j-1] in \"KR\") else \"Non-tryptic\" for i,j in zip(pept_start, pept_end)]\n",
        "        protein = protein[protein[\"pept_type\"] == \"Tryptic\"].copy()\n",
        "        if protein.shape[0] > 0:\n",
        "            protein.reset_index(drop=True, inplace=True)\n",
        "            protein[\"pept_id\"] = [str(protein[\"pept_start\"].to_list()[i]).zfill(4) + '-' + str(protein[\"pept_end\"].to_list()[i]).zfill(4) + '@' + pept for i, pept in enumerate(protein[\"Sequence\"].to_list())]\n",
        "            # protein\n",
        "            ceiled_fc = [3 if i > 3 else -3 if i < -3 else i for i in protein[\"Treat/Control\"].to_list()]\n",
        "            foldchanges = np.zeros((protein.shape[0], seq_len))\n",
        "            for i in range(len(foldchanges)):\n",
        "                foldchanges[i, (protein[\"pept_start\"].to_list()[i] - 1):(protein[\"pept_end\"].to_list()[i] - 1)] = ceiled_fc[i]\n",
        "            fc_df = pd.DataFrame(foldchanges, index=protein[\"pept_id\"], columns=[aa + str(i + 1) for i, aa in enumerate(list(sequence))]).sort_index().replace({0:np.nan})\n",
        "\n",
        "            plt.figure(figsize=(min(max(math.floor(seq_len/3), 5), 10), min(max(math.floor(protein.shape[0]/5), 3),6)))\n",
        "            sns.heatmap(fc_df,center=0, cmap=\"coolwarm\")\n",
        "            plt.tight_layout()\n",
        "            plt.savefig(pept_dir + uniprot_id.replace('|','-') + \"_double_sig_trypsin_pept_fc_alignments.pdf\")\n",
        "            plt.close()"
      ],
      "execution_count": null,
      "outputs": []
    },
    {
      "cell_type": "code",
      "metadata": {},
      "source": [
        "for uniprot_id in double_top_sig_uniprot_ids:\n",
        "    # uniprot_id = double_top_sig_uniprot_ids[0]\n",
        "    if '|' in uniprot_id:\n",
        "        prot_seq_search = [seq for seq in prot_seqs if seq.id == uniprot_id]\n",
        "    else:\n",
        "        prot_seq_search = [seq for seq in prot_seqs if seq.id.split('|')[1] == uniprot_id]\n",
        "    if len(prot_seq_search) != 0:\n",
        "        prot_seq = prot_seq_search[0]\n",
        "        sequence = str(prot_seq.seq)\n",
        "        seq_len = len(sequence)\n",
        "        protein = double_pept_sig[double_pept_sig[\"Uniprot\"] == uniprot_id].copy()\n",
        "        protein.reset_index(drop=True, inplace=True)\n",
        "        clean_pepts = [strip_peptide(pept, nip_off=False) for pept in protein[\"Sequence\"].to_list()]\n",
        "        pept_start = [sequence.find(clean_pept) + 1 for clean_pept in clean_pepts]\n",
        "        pept_end = [sequence.find(clean_pept) + len(clean_pept) for clean_pept in clean_pepts]\n",
        "        protein[\"pept_start\"] = pept_start\n",
        "        protein[\"pept_end\"] = pept_end\n",
        "        # protein[\"front_lytic\"] = [prot_seq[i-2] for i in pept_start]\n",
        "        # protein[\"end_lytic\"] = [prot_seq[i-1] for i in pept_end]\n",
        "        protein[\"pept_type\"] = [\"Tryptic\" if ((prot_seq[i-2] in \"KR\" or i == 2) and (prot_seq[j-1] in \"KR\" or j == seq_len)) else \"Semi-tryptic\" if (prot_seq[i-2] in \"KR\" or prot_seq[j-1] in \"KR\") else \"Non-tryptic\" for i,j in zip(pept_start, pept_end)]\n",
        "        protein = protein[protein[\"pept_type\"] == \"Semi-tryptic\"].copy()\n",
        "        if protein.shape[0] > 0:\n",
        "            protein.reset_index(drop=True, inplace=True)\n",
        "            protein[\"pept_id\"] = [str(protein[\"pept_start\"].to_list()[i]).zfill(4) + '-' + str(protein[\"pept_end\"].to_list()[i]).zfill(4) + '@' + pept for i, pept in enumerate(protein[\"Sequence\"].to_list())]\n",
        "            # protein\n",
        "            ceiled_fc = [3 if i > 3 else -3 if i < -3 else i for i in protein[\"Treat/Control\"].to_list()]\n",
        "            foldchanges = np.zeros((protein.shape[0], seq_len))\n",
        "            for i in range(len(foldchanges)):\n",
        "                foldchanges[i, (protein[\"pept_start\"].to_list()[i] - 1):(protein[\"pept_end\"].to_list()[i] - 1)] = ceiled_fc[i]\n",
        "            fc_df = pd.DataFrame(foldchanges, index=protein[\"pept_id\"], columns=[aa + str(i + 1) for i, aa in enumerate(list(sequence))]).sort_index().replace({0:np.nan})\n",
        "\n",
        "            plt.figure(figsize=(min(max(math.floor(seq_len/3), 5), 10), min(max(math.floor(protein.shape[0]/5), 3),6)))\n",
        "            sns.heatmap(fc_df,center=0, cmap=\"coolwarm\")\n",
        "            plt.tight_layout()\n",
        "            plt.savefig(pept_dir + uniprot_id.replace('|','-') + \"_double_sig_semi_pept_fc_alignments.pdf\")\n",
        "            plt.close()"
      ],
      "execution_count": null,
      "outputs": []
    },
    {
      "cell_type": "markdown",
      "metadata": {},
      "source": [
        "#### Quantifying the peptide region"
      ]
    },
    {
      "cell_type": "code",
      "metadata": {},
      "source": [
        "color_levels = 20\n",
        "both_pal_vals = sns.color_palette(\"Greens\", color_levels)\n",
        "up_pal_vals = sns.color_palette(\"Reds\", color_levels)\n",
        "down_pal_vals = sns.color_palette(\"Blues\", color_levels)\n",
        "insig_pal_vals = sns.color_palette(\"Greys\", color_levels)"
      ],
      "execution_count": null,
      "outputs": []
    },
    {
      "cell_type": "code",
      "metadata": {},
      "source": [
        "pept_dir = result_dir + sample + \"_pept_quant/\"\n",
        "Path(pept_dir).mkdir(parents=True, exist_ok=True)"
      ],
      "execution_count": null,
      "outputs": []
    },
    {
      "cell_type": "markdown",
      "metadata": {},
      "source": [
        "##### Double sample"
      ]
    },
    {
      "cell_type": "code",
      "metadata": {},
      "source": [
        "# plotting_ids = []\n",
        "plotting_ids = double_sig_uniprot_ids\n",
        "intensity_cols = double_int_cols\n",
        "all_tryptic_regions = []\n",
        "all_semi_regions = []\n",
        "any_tryptic = []\n",
        "any_tryptic_sig = []\n",
        "pept_df = double_pept_nmrc.copy()\n",
        "all_uniprot_ids = list(set(pept_df[\"Uniprot\"]))\n",
        "for uniprot_id in all_uniprot_ids:\n",
        "    # uniprot_id = double_top_sig_uniprot_ids[0]\n",
        "    if '|' in uniprot_id:\n",
        "        prot_seq_search = [seq for seq in prot_seqs if seq.id == uniprot_id]\n",
        "    else:\n",
        "        prot_seq_search = [seq for seq in prot_seqs if seq.id.split('|')[1] == uniprot_id]\n",
        "    if len(prot_seq_search) != 0:\n",
        "        prot_seq = prot_seq_search[0]\n",
        "        sequence = str(prot_seq.seq)\n",
        "        seq_len = len(sequence)\n",
        "        protein = pept_df[pept_df[\"Uniprot\"] == uniprot_id].copy()\n",
        "        protein.reset_index(drop=True, inplace=True)\n",
        "        clean_pepts = [strip_peptide(pept, nip_off=False) for pept in protein[\"Sequence\"].to_list()]\n",
        "        protein[\"clean_pepts\"] = clean_pepts\n",
        "        protein[\"Protein description\"] = prot_seq.description\n",
        "        protein[\"Protein length\"] = seq_len\n",
        "        pept_start = [sequence.find(clean_pept) + 1 for clean_pept in clean_pepts]\n",
        "        pept_end = [sequence.find(clean_pept) + len(clean_pept) for clean_pept in clean_pepts]\n",
        "        protein[\"pept_start\"] = pept_start\n",
        "        protein[\"pept_end\"] = pept_end\n",
        "        # protein[\"front_lytic\"] = [prot_seq[i-2] for i in pept_start]\n",
        "        # protein[\"end_lytic\"] = [prot_seq[i-1] for i in pept_end]\n",
        "        protein[\"pept_type\"] = [\"Tryptic\" if ((prot_seq[i-2] in \"KR\" or i == 2) and (prot_seq[j-1] in \"KR\" or j == seq_len)) else \"Semi-tryptic\" if (prot_seq[i-2] in \"KR\" or prot_seq[j-1] in \"KR\") else \"Non-tryptic\" for i,j in zip(pept_start, pept_end)]\n",
        "        protein[\"Tryp Pept num\"] = protein[(protein[\"pept_type\"] == \"Tryptic\")].copy().shape[0]\n",
        "        protein[\"Semi Pept num\"] = protein[(protein[\"pept_type\"] == \"Semi-tryptic\")].copy().shape[0]\n",
        "        sig_semi_pepts = protein[(protein[\"pept_type\"] == \"Semi-tryptic\") & (protein[\"Treat/Control_pval\"] < sig_thr)].copy()\n",
        "        protein[\"Sig Semi Pept num\"] = sig_semi_pepts.shape[0]\n",
        "        protein[\"Sum FC of Sig Semi Pept\"] = sig_semi_pepts[\"Treat/Control\"].abs().sum()\n",
        "        protein[\"pept_id\"] = [str(protein[\"pept_start\"].to_list()[i]).zfill(4) + '-' + str(protein[\"pept_end\"].to_list()[i]).zfill(4) + '@' + pept for i, pept in enumerate(protein[\"Sequence\"].to_list())]\n",
        "        protein.index = protein[\"pept_id\"]\n",
        "        tryptic = protein[protein[\"pept_type\"] == \"Tryptic\"].copy().sort_index()\n",
        "        semitryptic = protein[protein[\"pept_type\"] == \"Semi-tryptic\"].copy().sort_index()\n",
        "        tryptic[\"lytic_group\"] = 0\n",
        "        semitryptic[\"lytic_group\"] = 0\n",
        "        for i, idx in enumerate(tryptic.index.to_list()):\n",
        "            tryptic.loc[idx, \"lytic_group\"] = i+1\n",
        "            semitryptic.loc[((semitryptic[\"pept_start\"] == tryptic.loc[idx, \"pept_start\"]) | (semitryptic[\"pept_end\"] == tryptic.loc[idx, \"pept_end\"])), \"lytic_group\"] = i+1\n",
        "        protein_any_tryptic = pd.concat([tryptic, semitryptic]).copy()\n",
        "        protein_any_tryptic_sig = protein_any_tryptic[protein_any_tryptic[\"Treat/Control_pval\"] < sig_thr].copy()\n",
        "        if uniprot_id in plotting_ids:\n",
        "            fc_diff_names = [aa + str(i+1) for i, aa in enumerate(list(sequence))]\n",
        "            tryptic_bar_code = [(1.0,1.0,1.0)] * len(fc_diff_names)\n",
        "            semi_bar_code = [(1.0,1.0,1.0)] * len(fc_diff_names)\n",
        "\n",
        "            tryptic_res = tryptic.copy()\n",
        "            if tryptic_res.shape[0] > 0:\n",
        "                tryptic_res[\"residue\"] = [[res + str(sequence.find(clean_pept)+i+1) for i, res in enumerate(clean_pept)] for clean_pept in tryptic_res[\"clean_pepts\"]]\n",
        "                tryptic_res = tryptic_res.explode(\"residue\")\n",
        "                tryptic_res.index = tryptic_res[\"residue\"]\n",
        "                tryptic_res[intensity_cols] = 2 ** (tryptic_res[intensity_cols])\n",
        "                tryptic_res_grouped = tryptic_res[intensity_cols].groupby(\"residue\").sum(min_count=1)\n",
        "                tryptic_res_grouped = np.log2(tryptic_res_grouped)\n",
        "                tryptic_res_grouped[\"Uniprot\"] = uniprot_id\n",
        "                tryptic_res_grouped[\"Site\"] = tryptic_res_grouped.index.to_list()\n",
        "                tryptic_res_grouped[\"Pos\"] = [int(re.sub(r\"\\D\", \"\", site)) for site in tryptic_res_grouped[\"Site\"]]\n",
        "                tryptic_res_grouped[\"Control\"] = tryptic_res_grouped[double_ctrl_cols].mean(axis=1).fillna(0)\n",
        "                tryptic_res_grouped[\"Treat\"] = tryptic_res_grouped[double_treat_cols].mean(axis=1).fillna(0)\n",
        "                tryptic_res_grouped[\"Treat/Control\"] = tryptic_res_grouped[\"Treat\"] - tryptic_res_grouped[\"Control\"]\n",
        "                tryptic_res_grouped[\"Treat/Control_pval\"] = sp.stats.ttest_ind(tryptic_res_grouped[double_treat_cols], tryptic_res_grouped[double_ctrl_cols], axis=1, nan_policy='omit').pvalue\n",
        "                tryptic_res_grouped[\"Treat/Control_pval\"].fillna(0, inplace=True)\n",
        "                tryptic_res_grouped[\"Treat/Control_adj-p\"] = sp.stats.false_discovery_control(tryptic_res_grouped[\"Treat/Control_pval\"].fillna(0))\n",
        "                tryptic_res_grouped[\"Treat/Control_adj-p_BY\"] = sp.stats.false_discovery_control(tryptic_res_grouped[\"Treat/Control_pval\"].fillna(0), method = 'by')\n",
        "                tryptic_res_grouped[\"Treat/Control_adj-p_bonferroni\"] = multitest.multipletests(tryptic_res_grouped[\"Treat/Control_pval\"].fillna(0), method='bonferroni')[1]\n",
        "                # tryptic_res_grouped_sig = tryptic_res_grouped[tryptic_res_grouped[\"Treat/Control_pval\"] < sig_thr].copy()\n",
        "                tryptic_res_grouped.sort_values(by=[\"Pos\"], inplace=True)\n",
        "                tryptic_res_grouped_copy = tryptic_res_grouped[tryptic_res_grouped.columns.to_list()[-7:] + tryptic_res_grouped.columns.to_list()[:-7]].copy()\n",
        "                tryptic_res_grouped_copy.index = uniprot_id + '@' + tryptic_res_grouped_copy[\"Site\"]\n",
        "                all_tryptic_regions.append(tryptic_res_grouped_copy)\n",
        "\n",
        "                tryptic_fc_diff = tryptic_res_grouped[[\"Site\", \"Pos\", \"Treat/Control\", \"Treat/Control_pval\"]].copy()\n",
        "                tryptic_fc_diff.index = tryptic_fc_diff[\"Site\"]\n",
        "                tryptic_fc_diff_max = tryptic_fc_diff[\"Treat/Control\"].abs().max()\n",
        "                for i in range(tryptic_fc_diff.shape[0]):\n",
        "                    if tryptic_fc_diff.iloc[i, 2] > 0:\n",
        "                        if tryptic_fc_diff.iloc[i, 3] < 0.05:\n",
        "                            tryptic_bar_code[tryptic_fc_diff.iloc[i, 1] - 1] = up_pal_vals[np.ceil(min(abs(tryptic_fc_diff.iloc[i, 2]),3.322)/tryptic_fc_diff_max * color_levels).astype(\"int\") - 1]\n",
        "                        else:\n",
        "                            tryptic_bar_code[tryptic_fc_diff.iloc[i, 1] - 1] = insig_pal_vals[np.ceil(min(abs(tryptic_fc_diff.iloc[i, 2]),3.322)/tryptic_fc_diff_max * color_levels).astype(\"int\") - 1]\n",
        "                    else:\n",
        "                        if tryptic_fc_diff.iloc[i, 3] < 0.05:\n",
        "                            tryptic_bar_code[tryptic_fc_diff.iloc[i, 1] - 1] = down_pal_vals[np.ceil(min(abs(tryptic_fc_diff.iloc[i, 2]),3.322)/tryptic_fc_diff_max * color_levels).astype(\"int\") - 1]\n",
        "                        else:\n",
        "                            tryptic_bar_code[tryptic_fc_diff.iloc[i, 1] - 1] = insig_pal_vals[np.ceil(min(abs(tryptic_fc_diff.iloc[i, 2]),3.322)/tryptic_fc_diff_max * color_levels).astype(\"int\") - 1]\n",
        "    \n",
        "            semi_res = semitryptic.copy()\n",
        "            if semi_res.shape[0] > 0:\n",
        "                semi_res[\"residue\"] = [[res + str(sequence.find(clean_pept)+i+1) for i, res in enumerate(clean_pept)] for clean_pept in semi_res[\"clean_pepts\"]]\n",
        "                semi_res = semi_res.explode(\"residue\")\n",
        "                semi_res.index = semi_res[\"residue\"]\n",
        "                semi_res[intensity_cols] = 2 ** (semi_res[intensity_cols])\n",
        "                semi_res_grouped = semi_res[intensity_cols].groupby(\"residue\").sum(min_count=1)\n",
        "                semi_res_grouped = np.log2(semi_res_grouped)\n",
        "                semi_res_grouped[\"Uniprot\"] = uniprot_id\n",
        "                semi_res_grouped[\"Site\"] = semi_res_grouped.index.to_list()\n",
        "                semi_res_grouped[\"Pos\"] = [int(re.sub(r\"\\D\", \"\", site)) for site in semi_res_grouped[\"Site\"]]\n",
        "                semi_res_grouped[\"Control\"] = semi_res_grouped[double_ctrl_cols].mean(axis=1).fillna(0)\n",
        "                semi_res_grouped[\"Treat\"] = semi_res_grouped[double_treat_cols].mean(axis=1).fillna(0)\n",
        "                semi_res_grouped[\"Treat/Control\"] = semi_res_grouped[\"Treat\"] - semi_res_grouped[\"Control\"]\n",
        "                semi_res_grouped[\"Treat/Control_pval\"] = sp.stats.ttest_ind(semi_res_grouped[double_treat_cols], semi_res_grouped[double_ctrl_cols], axis=1, nan_policy='omit').pvalue\n",
        "                semi_res_grouped[\"Treat/Control_pval\"].fillna(0, inplace=True)\n",
        "                semi_res_grouped[\"Treat/Control_adj-p\"] = sp.stats.false_discovery_control(semi_res_grouped[\"Treat/Control_pval\"].fillna(0))\n",
        "                semi_res_grouped[\"Treat/Control_adj-p_BY\"] = sp.stats.false_discovery_control(semi_res_grouped[\"Treat/Control_pval\"].fillna(0), method = 'by')\n",
        "                semi_res_grouped[\"Treat/Control_adj-p_bonferroni\"] = multitest.multipletests(semi_res_grouped[\"Treat/Control_pval\"].fillna(0), method='bonferroni')[1]\n",
        "                # semi_res_grouped_sig = semi_res_grouped[semi_res_grouped[\"Treat/Control_pval\"] < sig_thr].copy()\n",
        "                semi_res_grouped.sort_values(by=[\"Pos\"], inplace=True)\n",
        "                semi_res_grouped_copy = semi_res_grouped[semi_res_grouped.columns.to_list()[-7:] + semi_res_grouped.columns.to_list()[:-7]].copy()\n",
        "                semi_res_grouped_copy.index = uniprot_id + '@' + semi_res_grouped_copy[\"Site\"]\n",
        "                all_semi_regions.append(semi_res_grouped_copy)\n",
        "\n",
        "                semi_fc_diff = semi_res_grouped[[\"Site\", \"Pos\", \"Treat/Control\", \"Treat/Control_pval\"]].copy()\n",
        "                semi_fc_diff.index = semi_fc_diff[\"Site\"]\n",
        "                semi_fc_diff_max = semi_fc_diff[\"Treat/Control\"].abs().max()\n",
        "                for i in range(semi_fc_diff.shape[0]):\n",
        "                    if semi_fc_diff.iloc[i, 2] > 0:\n",
        "                        if semi_fc_diff.iloc[i, 3] < 0.05:\n",
        "                            semi_bar_code[semi_fc_diff.iloc[i, 1] - 1] = up_pal_vals[np.ceil(min(abs(semi_fc_diff.iloc[i, 2]),3.322)/semi_fc_diff_max * color_levels).astype(\"int\") - 1]\n",
        "                        else:\n",
        "                            semi_bar_code[semi_fc_diff.iloc[i, 1] - 1] = insig_pal_vals[np.ceil(min(abs(semi_fc_diff.iloc[i, 2]),3.322)/semi_fc_diff_max * color_levels).astype(\"int\") - 1]\n",
        "                    else:\n",
        "                        if semi_fc_diff.iloc[i, 3] < 0.05:\n",
        "                            semi_bar_code[semi_fc_diff.iloc[i, 1] - 1] = down_pal_vals[np.ceil(min(abs(semi_fc_diff.iloc[i, 2]),3.322)/semi_fc_diff_max * color_levels).astype(\"int\") - 1]\n",
        "                        else:\n",
        "                            semi_bar_code[semi_fc_diff.iloc[i, 1] - 1] = insig_pal_vals[np.ceil(min(abs(semi_fc_diff.iloc[i, 2]),3.322)/semi_fc_diff_max * color_levels).astype(\"int\") - 1]\n",
        "            \n",
        "            fig = plt.figure(figsize=(10,5))\n",
        "            ax = fig.add_subplot(2, 1, 1)\n",
        "            plot_barcode(tryptic_bar_code, barcode_name = uniprot_id + \"_tryptic\", ticklabel=[fc_diff_names[j] for j in np.arange(0,seq_len,np.ceil(seq_len/10).astype(\"int\"))], ax=ax)\n",
        "            ax = fig.add_subplot(2, 1, 2)\n",
        "            plot_barcode(semi_bar_code, barcode_name = uniprot_id + \"_semi-tryptic\", ticklabel=[fc_diff_names[j] for j in np.arange(0,seq_len,np.ceil(seq_len/10).astype(\"int\"))], ax=ax)\n",
        "            plt.tight_layout()\n",
        "            plt.savefig(pept_dir + uniprot_id.replace('|','-') + \"_residue_any_tryptic_barcode.pdf\")\n",
        "            plt.close()\n",
        "    \n",
        "    \n",
        "    any_tryptic.append(protein_any_tryptic)\n",
        "    any_tryptic_sig.append(protein_any_tryptic_sig)"
      ],
      "execution_count": null,
      "outputs": []
    },
    {
      "cell_type": "code",
      "metadata": {},
      "source": [
        "new_info_cols = info_cols + [\"Protein description\", \"Protein length\", \"Tryp Pept num\", \"Semi Pept num\", \"Sig Semi Pept num\", \"Sum FC of Sig Semi Pept\", \"pept_start\", \"pept_end\", \"pept_type\", \"lytic_group\"]\n",
        "new_double_cols = new_info_cols + double_int_cols"
      ],
      "execution_count": null,
      "outputs": []
    },
    {
      "cell_type": "code",
      "metadata": {},
      "source": [
        "any_tryptic_df = pd.concat(any_tryptic)\n",
        "any_tryptic_df[new_double_cols].to_csv(result_dir + sample + \"_double_pept_annot.tsv\", sep='\\t', index=None)\n",
        "any_tryptic_df[new_double_cols].to_pickle(result_dir + sample + \"_double_pept_annot.pkl\")\n",
        "# any_tryptic_sig_df = pd.concat(any_tryptic_sig)\n",
        "# any_tryptic_sig_df[new_double_cols].to_csv(result_dir + sample + \"_double_pept_sig_annot.tsv\", sep='\\t', index=None)\n",
        "# any_tryptic_sig_df[new_double_cols].to_pickle(result_dir + sample + \"_double_pept_sig_annot.pkl\")"
      ],
      "execution_count": null,
      "outputs": []
    },
    {
      "cell_type": "code",
      "metadata": {},
      "source": [
        "proteome_tryptic_regions = pd.concat(all_tryptic_regions)\n",
        "proteome_tryptic_regions.to_csv(result_dir + sample + \"_proteome_tryptic_region.tsv\", sep='\\t')\n",
        "proteome_tryptic_regions.to_pickle(result_dir + sample + \"_proteome_tryptic_region.pkl\")"
      ],
      "execution_count": null,
      "outputs": []
    },
    {
      "cell_type": "code",
      "metadata": {},
      "source": [
        "proteome_semi_regions = pd.concat(all_semi_regions)\n",
        "proteome_semi_regions.to_csv(result_dir + sample + \"_proteome_semi_regions.tsv\", sep='\\t')\n",
        "proteome_semi_regions.to_pickle(result_dir + sample + \"_proteome_semi_regions.pkl\")"
      ],
      "execution_count": null,
      "outputs": []
    },
    {
      "cell_type": "markdown",
      "metadata": {},
      "source": [
        "#### Quantifying the significantlly changed peptide region"
      ]
    },
    {
      "cell_type": "code",
      "metadata": {},
      "source": [
        "color_levels = 20\n",
        "both_pal_vals = sns.color_palette(\"Greens\", color_levels)\n",
        "up_pal_vals = sns.color_palette(\"Reds\", color_levels)\n",
        "down_pal_vals = sns.color_palette(\"Blues\", color_levels)\n",
        "insig_pal_vals = sns.color_palette(\"Greys\", color_levels)"
      ],
      "execution_count": null,
      "outputs": []
    },
    {
      "cell_type": "code",
      "metadata": {},
      "source": [
        "pept_dir = result_dir + sample + \"_sig_pept_quant/\"\n",
        "Path(pept_dir).mkdir(parents=True, exist_ok=True)"
      ],
      "execution_count": null,
      "outputs": []
    },
    {
      "cell_type": "markdown",
      "metadata": {},
      "source": [
        "##### Double sample"
      ]
    },
    {
      "cell_type": "code",
      "metadata": {},
      "source": [
        "# plotting_ids = []\n",
        "plotting_ids = double_sig_uniprot_ids\n",
        "intensity_cols = double_int_cols\n",
        "all_tryptic_regions = []\n",
        "all_semi_regions = []\n",
        "any_tryptic = []\n",
        "any_tryptic_sig = []\n",
        "pept_df = double_pept_sig_nmrc.copy()\n",
        "all_uniprot_ids = list(set(pept_df[\"Uniprot\"]))\n",
        "for uniprot_id in all_uniprot_ids:\n",
        "    # uniprot_id = double_top_sig_uniprot_ids[0]\n",
        "    if '|' in uniprot_id:\n",
        "        prot_seq_search = [seq for seq in prot_seqs if seq.id == uniprot_id]\n",
        "    else:\n",
        "        prot_seq_search = [seq for seq in prot_seqs if seq.id.split('|')[1] == uniprot_id]\n",
        "    if len(prot_seq_search) != 0:\n",
        "        prot_seq = prot_seq_search[0]\n",
        "        sequence = str(prot_seq.seq)\n",
        "        seq_len = len(sequence)\n",
        "        protein = pept_df[pept_df[\"Uniprot\"] == uniprot_id].copy()\n",
        "        protein.reset_index(drop=True, inplace=True)\n",
        "        clean_pepts = [strip_peptide(pept, nip_off=False) for pept in protein[\"Sequence\"].to_list()]\n",
        "        protein[\"clean_pepts\"] = clean_pepts\n",
        "        protein[\"Protein description\"] = prot_seq.description\n",
        "        protein[\"Protein length\"] = seq_len\n",
        "        pept_start = [sequence.find(clean_pept) + 1 for clean_pept in clean_pepts]\n",
        "        pept_end = [sequence.find(clean_pept) + len(clean_pept) for clean_pept in clean_pepts]\n",
        "        protein[\"pept_start\"] = pept_start\n",
        "        protein[\"pept_end\"] = pept_end\n",
        "        # protein[\"front_lytic\"] = [prot_seq[i-2] for i in pept_start]\n",
        "        # protein[\"end_lytic\"] = [prot_seq[i-1] for i in pept_end]\n",
        "        protein[\"pept_type\"] = [\"Tryptic\" if ((prot_seq[i-2] in \"KR\" or i == 2) and (prot_seq[j-1] in \"KR\" or j == seq_len)) else \"Semi-tryptic\" if (prot_seq[i-2] in \"KR\" or prot_seq[j-1] in \"KR\") else \"Non-tryptic\" for i,j in zip(pept_start, pept_end)]\n",
        "        protein[\"Tryp Pept num\"] = protein[(protein[\"pept_type\"] == \"Tryptic\")].copy().shape[0]\n",
        "        protein[\"Semi Pept num\"] = protein[(protein[\"pept_type\"] == \"Semi-tryptic\")].copy().shape[0]\n",
        "        sig_semi_pepts = protein[(protein[\"pept_type\"] == \"Semi-tryptic\") & (protein[\"Treat/Control_pval\"] < sig_thr)].copy()\n",
        "        protein[\"Sig Semi Pept num\"] = sig_semi_pepts.shape[0]\n",
        "        protein[\"Sum FC of Sig Semi Pept\"] = sig_semi_pepts[\"Treat/Control\"].abs().sum()\n",
        "        protein[\"pept_id\"] = [str(protein[\"pept_start\"].to_list()[i]).zfill(4) + '-' + str(protein[\"pept_end\"].to_list()[i]).zfill(4) + '@' + pept for i, pept in enumerate(protein[\"Sequence\"].to_list())]\n",
        "        protein.index = protein[\"pept_id\"]\n",
        "        tryptic = protein[protein[\"pept_type\"] == \"Tryptic\"].copy().sort_index()\n",
        "        semitryptic = protein[protein[\"pept_type\"] == \"Semi-tryptic\"].copy().sort_index()\n",
        "        tryptic[\"lytic_group\"] = 0\n",
        "        semitryptic[\"lytic_group\"] = 0\n",
        "        for i, idx in enumerate(tryptic.index.to_list()):\n",
        "            tryptic.loc[idx, \"lytic_group\"] = i+1\n",
        "            semitryptic.loc[((semitryptic[\"pept_start\"] == tryptic.loc[idx, \"pept_start\"]) | (semitryptic[\"pept_end\"] == tryptic.loc[idx, \"pept_end\"])), \"lytic_group\"] = i+1\n",
        "        protein_any_tryptic = pd.concat([tryptic, semitryptic]).copy()\n",
        "        protein_any_tryptic_sig = protein_any_tryptic[protein_any_tryptic[\"Treat/Control_pval\"] < sig_thr].copy()\n",
        "        if uniprot_id in plotting_ids:\n",
        "            fc_diff_names = [aa + str(i+1) for i, aa in enumerate(list(sequence))]\n",
        "            tryptic_bar_code = [(1.0,1.0,1.0)] * len(fc_diff_names)\n",
        "            semi_bar_code = [(1.0,1.0,1.0)] * len(fc_diff_names)\n",
        "\n",
        "            tryptic_res = tryptic.copy()\n",
        "            if tryptic_res.shape[0] > 0:\n",
        "                tryptic_res[\"residue\"] = [[res + str(sequence.find(clean_pept)+i+1) for i, res in enumerate(clean_pept)] for clean_pept in tryptic_res[\"clean_pepts\"]]\n",
        "                tryptic_res = tryptic_res.explode(\"residue\")\n",
        "                tryptic_res.index = tryptic_res[\"residue\"]\n",
        "                tryptic_res[intensity_cols] = 2 ** (tryptic_res[intensity_cols])\n",
        "                tryptic_res_grouped = tryptic_res[intensity_cols].groupby(\"residue\").sum(min_count=1)\n",
        "                tryptic_res_grouped = np.log2(tryptic_res_grouped)\n",
        "                tryptic_res_grouped[\"Uniprot\"] = uniprot_id\n",
        "                tryptic_res_grouped[\"Site\"] = tryptic_res_grouped.index.to_list()\n",
        "                tryptic_res_grouped[\"Pos\"] = [int(re.sub(r\"\\D\", \"\", site)) for site in tryptic_res_grouped[\"Site\"]]\n",
        "                tryptic_res_grouped[\"Control\"] = tryptic_res_grouped[double_ctrl_cols].mean(axis=1).fillna(0)\n",
        "                tryptic_res_grouped[\"Treat\"] = tryptic_res_grouped[double_treat_cols].mean(axis=1).fillna(0)\n",
        "                tryptic_res_grouped[\"Treat/Control\"] = tryptic_res_grouped[\"Treat\"] - tryptic_res_grouped[\"Control\"]\n",
        "                tryptic_res_grouped[\"Treat/Control_pval\"] = sp.stats.ttest_ind(tryptic_res_grouped[double_treat_cols], tryptic_res_grouped[double_ctrl_cols], axis=1, nan_policy='omit').pvalue\n",
        "                tryptic_res_grouped[\"Treat/Control_pval\"].fillna(0, inplace=True)\n",
        "                tryptic_res_grouped[\"Treat/Control_adj-p\"] = sp.stats.false_discovery_control(tryptic_res_grouped[\"Treat/Control_pval\"].fillna(0))\n",
        "                tryptic_res_grouped[\"Treat/Control_adj-p_BY\"] = sp.stats.false_discovery_control(tryptic_res_grouped[\"Treat/Control_pval\"].fillna(0), method = 'by')\n",
        "                tryptic_res_grouped[\"Treat/Control_adj-p_bonferroni\"] = multitest.multipletests(tryptic_res_grouped[\"Treat/Control_pval\"].fillna(0), method='bonferroni')[1]\n",
        "                # tryptic_res_grouped_sig = tryptic_res_grouped[tryptic_res_grouped[\"Treat/Control_pval\"] < sig_thr].copy()\n",
        "                tryptic_res_grouped.sort_values(by=[\"Pos\"], inplace=True)\n",
        "                tryptic_res_grouped_copy = tryptic_res_grouped[tryptic_res_grouped.columns.to_list()[-7:] + tryptic_res_grouped.columns.to_list()[:-7]].copy()\n",
        "                tryptic_res_grouped_copy.index = uniprot_id + '@' + tryptic_res_grouped_copy[\"Site\"]\n",
        "                all_tryptic_regions.append(tryptic_res_grouped_copy)\n",
        "\n",
        "                tryptic_fc_diff = tryptic_res_grouped[[\"Site\", \"Pos\", \"Treat/Control\", \"Treat/Control_pval\"]].copy()\n",
        "                tryptic_fc_diff.index = tryptic_fc_diff[\"Site\"]\n",
        "                tryptic_fc_diff_max = tryptic_fc_diff[\"Treat/Control\"].abs().max()\n",
        "                for i in range(tryptic_fc_diff.shape[0]):\n",
        "                    if tryptic_fc_diff.iloc[i, 2] > 0:\n",
        "                        if tryptic_fc_diff.iloc[i, 3] < 0.05:\n",
        "                            tryptic_bar_code[tryptic_fc_diff.iloc[i, 1] - 1] = up_pal_vals[np.ceil(min(abs(tryptic_fc_diff.iloc[i, 2]),3.322)/tryptic_fc_diff_max * color_levels).astype(\"int\") - 1]\n",
        "                        else:\n",
        "                            tryptic_bar_code[tryptic_fc_diff.iloc[i, 1] - 1] = insig_pal_vals[np.ceil(min(abs(tryptic_fc_diff.iloc[i, 2]),3.322)/tryptic_fc_diff_max * color_levels).astype(\"int\") - 1]\n",
        "                    else:\n",
        "                        if tryptic_fc_diff.iloc[i, 3] < 0.05:\n",
        "                            tryptic_bar_code[tryptic_fc_diff.iloc[i, 1] - 1] = down_pal_vals[np.ceil(min(abs(tryptic_fc_diff.iloc[i, 2]),3.322)/tryptic_fc_diff_max * color_levels).astype(\"int\") - 1]\n",
        "                        else:\n",
        "                            tryptic_bar_code[tryptic_fc_diff.iloc[i, 1] - 1] = insig_pal_vals[np.ceil(min(abs(tryptic_fc_diff.iloc[i, 2]),3.322)/tryptic_fc_diff_max * color_levels).astype(\"int\") - 1]\n",
        "    \n",
        "            semi_res = semitryptic.copy()\n",
        "            if semi_res.shape[0] > 0:\n",
        "                semi_res[\"residue\"] = [[res + str(sequence.find(clean_pept)+i+1) for i, res in enumerate(clean_pept)] for clean_pept in semi_res[\"clean_pepts\"]]\n",
        "                semi_res = semi_res.explode(\"residue\")\n",
        "                semi_res.index = semi_res[\"residue\"]\n",
        "                semi_res[intensity_cols] = 2 ** (semi_res[intensity_cols])\n",
        "                semi_res_grouped = semi_res[intensity_cols].groupby(\"residue\").sum(min_count=1)\n",
        "                semi_res_grouped = np.log2(semi_res_grouped)\n",
        "                semi_res_grouped[\"Uniprot\"] = uniprot_id\n",
        "                semi_res_grouped[\"Site\"] = semi_res_grouped.index.to_list()\n",
        "                semi_res_grouped[\"Pos\"] = [int(re.sub(r\"\\D\", \"\", site)) for site in semi_res_grouped[\"Site\"]]\n",
        "                semi_res_grouped[\"Control\"] = semi_res_grouped[double_ctrl_cols].mean(axis=1).fillna(0)\n",
        "                semi_res_grouped[\"Treat\"] = semi_res_grouped[double_treat_cols].mean(axis=1).fillna(0)\n",
        "                semi_res_grouped[\"Treat/Control\"] = semi_res_grouped[\"Treat\"] - semi_res_grouped[\"Control\"]\n",
        "                semi_res_grouped[\"Treat/Control_pval\"] = sp.stats.ttest_ind(semi_res_grouped[double_treat_cols], semi_res_grouped[double_ctrl_cols], axis=1, nan_policy='omit').pvalue\n",
        "                semi_res_grouped[\"Treat/Control_pval\"].fillna(0, inplace=True)\n",
        "                semi_res_grouped[\"Treat/Control_adj-p\"] = sp.stats.false_discovery_control(semi_res_grouped[\"Treat/Control_pval\"].fillna(0))\n",
        "                semi_res_grouped[\"Treat/Control_adj-p_BY\"] = sp.stats.false_discovery_control(semi_res_grouped[\"Treat/Control_pval\"].fillna(0), method = 'by')\n",
        "                semi_res_grouped[\"Treat/Control_adj-p_bonferroni\"] = multitest.multipletests(semi_res_grouped[\"Treat/Control_pval\"].fillna(0), method='bonferroni')[1]\n",
        "                # semi_res_grouped_sig = semi_res_grouped[semi_res_grouped[\"Treat/Control_pval\"] < sig_thr].copy()\n",
        "                semi_res_grouped.sort_values(by=[\"Pos\"], inplace=True)\n",
        "                semi_res_grouped_copy = semi_res_grouped[semi_res_grouped.columns.to_list()[-7:] + semi_res_grouped.columns.to_list()[:-7]].copy()\n",
        "                semi_res_grouped_copy.index = uniprot_id + '@' + semi_res_grouped_copy[\"Site\"]\n",
        "                all_semi_regions.append(semi_res_grouped_copy)\n",
        "\n",
        "                semi_fc_diff = semi_res_grouped[[\"Site\", \"Pos\", \"Treat/Control\", \"Treat/Control_pval\"]].copy()\n",
        "                semi_fc_diff.index = semi_fc_diff[\"Site\"]\n",
        "                semi_fc_diff_max = semi_fc_diff[\"Treat/Control\"].abs().max()\n",
        "                for i in range(semi_fc_diff.shape[0]):\n",
        "                    if semi_fc_diff.iloc[i, 2] > 0:\n",
        "                        if semi_fc_diff.iloc[i, 3] < 0.05:\n",
        "                            semi_bar_code[semi_fc_diff.iloc[i, 1] - 1] = up_pal_vals[np.ceil(min(abs(semi_fc_diff.iloc[i, 2]),3.322)/semi_fc_diff_max * color_levels).astype(\"int\") - 1]\n",
        "                        else:\n",
        "                            semi_bar_code[semi_fc_diff.iloc[i, 1] - 1] = insig_pal_vals[np.ceil(min(abs(semi_fc_diff.iloc[i, 2]),3.322)/semi_fc_diff_max * color_levels).astype(\"int\") - 1]\n",
        "                    else:\n",
        "                        if semi_fc_diff.iloc[i, 3] < 0.05:\n",
        "                            semi_bar_code[semi_fc_diff.iloc[i, 1] - 1] = down_pal_vals[np.ceil(min(abs(semi_fc_diff.iloc[i, 2]),3.322)/semi_fc_diff_max * color_levels).astype(\"int\") - 1]\n",
        "                        else:\n",
        "                            semi_bar_code[semi_fc_diff.iloc[i, 1] - 1] = insig_pal_vals[np.ceil(min(abs(semi_fc_diff.iloc[i, 2]),3.322)/semi_fc_diff_max * color_levels).astype(\"int\") - 1]\n",
        "            \n",
        "            fig = plt.figure(figsize=(10,5))\n",
        "            ax = fig.add_subplot(2, 1, 1)\n",
        "            plot_barcode(tryptic_bar_code, barcode_name = uniprot_id + \"_tryptic\", ticklabel=[fc_diff_names[j] for j in np.arange(0,seq_len,np.ceil(seq_len/10).astype(\"int\"))], ax=ax)\n",
        "            ax = fig.add_subplot(2, 1, 2)\n",
        "            plot_barcode(semi_bar_code, barcode_name = uniprot_id + \"_semi-tryptic\", ticklabel=[fc_diff_names[j] for j in np.arange(0,seq_len,np.ceil(seq_len/10).astype(\"int\"))], ax=ax)\n",
        "            plt.tight_layout()\n",
        "            plt.savefig(pept_dir + uniprot_id.replace('|','-') + \"_residue_any_tryptic_barcode.pdf\")\n",
        "            plt.close()\n",
        "    \n",
        "    \n",
        "    any_tryptic.append(protein_any_tryptic)\n",
        "    any_tryptic_sig.append(protein_any_tryptic_sig)"
      ],
      "execution_count": null,
      "outputs": []
    },
    {
      "cell_type": "code",
      "metadata": {},
      "source": [
        "new_info_cols = info_cols + [\"Protein description\", \"Protein length\", \"Tryp Pept num\", \"Semi Pept num\", \"Sig Semi Pept num\", \"Sum FC of Sig Semi Pept\", \"pept_start\", \"pept_end\", \"pept_type\", \"lytic_group\"]\n",
        "new_double_cols = new_info_cols + double_int_cols"
      ],
      "execution_count": null,
      "outputs": []
    },
    {
      "cell_type": "code",
      "metadata": {},
      "source": [
        "# any_tryptic_df = pd.concat(any_tryptic)\n",
        "# any_tryptic_df[new_double_cols].to_csv(result_dir + sample + \"_double_pept_annot.tsv\", sep='\\t', index=None)\n",
        "# any_tryptic_df[new_double_cols].to_pickle(result_dir + sample + \"_double_pept_annot.pkl\")\n",
        "any_tryptic_sig_df = pd.concat(any_tryptic_sig)\n",
        "any_tryptic_sig_df[new_double_cols].to_csv(result_dir + sample + \"_double_pept_sig_annot.tsv\", sep='\\t', index=None)\n",
        "any_tryptic_sig_df[new_double_cols].to_pickle(result_dir + sample + \"_double_pept_sig_annot.pkl\")"
      ],
      "execution_count": null,
      "outputs": []
    },
    {
      "cell_type": "code",
      "metadata": {},
      "source": [
        "proteome_tryptic_regions = pd.concat(all_tryptic_regions)\n",
        "proteome_tryptic_regions.to_csv(result_dir + sample + \"_proteome_sig_tryptic_region.tsv\", sep='\\t')\n",
        "proteome_tryptic_regions.to_pickle(result_dir + sample + \"_proteome_sig_tryptic_region.pkl\")"
      ],
      "execution_count": null,
      "outputs": []
    },
    {
      "cell_type": "code",
      "metadata": {},
      "source": [
        "proteome_semi_regions = pd.concat(all_semi_regions)\n",
        "proteome_semi_regions.to_csv(result_dir + sample + \"_proteome_sig_semi_regions.tsv\", sep='\\t')\n",
        "proteome_semi_regions.to_pickle(result_dir + sample + \"_proteome_sig_semi_regions.pkl\")"
      ],
      "execution_count": null,
      "outputs": []
    },
    {
      "cell_type": "markdown",
      "metadata": {},
      "source": [
        "##### Quantifying the trypsin data"
      ]
    },
    {
      "cell_type": "code",
      "metadata": {},
      "source": [
        "# plotting_ids = []\n",
        "plotting_ids = trypsin_sig_uniprot_ids\n",
        "intensity_cols = trypsin_int_cols\n",
        "all_tryptic_regions = []\n",
        "all_semi_regions = []\n",
        "any_tryptic = []\n",
        "any_tryptic_sig = []\n",
        "pept_df = trypsin_pept_nmrc.copy()\n",
        "all_uniprot_ids = list(set(pept_df[\"Uniprot\"]))\n",
        "for uniprot_id in all_uniprot_ids:\n",
        "    # uniprot_id = trypsin_top_sig_uniprot_ids[0]\n",
        "    if '|' in uniprot_id:\n",
        "        prot_seq_search = [seq for seq in prot_seqs if seq.id == uniprot_id]\n",
        "    else:\n",
        "        prot_seq_search = [seq for seq in prot_seqs if seq.id.split('|')[1] == uniprot_id]\n",
        "    if len(prot_seq_search) != 0:\n",
        "        prot_seq = prot_seq_search[0]\n",
        "        sequence = str(prot_seq.seq)\n",
        "        seq_len = len(sequence)\n",
        "        protein = pept_df[pept_df[\"Uniprot\"] == uniprot_id].copy()\n",
        "        protein.reset_index(drop=True, inplace=True)\n",
        "        clean_pepts = [strip_peptide(pept, nip_off=False) for pept in protein[\"Sequence\"].to_list()]\n",
        "        protein[\"clean_pepts\"] = clean_pepts\n",
        "        protein[\"Protein description\"] = prot_seq.description\n",
        "        protein[\"Protein length\"] = seq_len\n",
        "        pept_start = [sequence.find(clean_pept) + 1 for clean_pept in clean_pepts]\n",
        "        pept_end = [sequence.find(clean_pept) + len(clean_pept) for clean_pept in clean_pepts]\n",
        "        protein[\"pept_start\"] = pept_start\n",
        "        protein[\"pept_end\"] = pept_end\n",
        "        # protein[\"front_lytic\"] = [prot_seq[i-2] for i in pept_start]\n",
        "        # protein[\"end_lytic\"] = [prot_seq[i-1] for i in pept_end]\n",
        "        protein[\"pept_type\"] = [\"Tryptic\" if ((prot_seq[i-2] in \"KR\" or i == 2) and (prot_seq[j-1] in \"KR\" or j == seq_len)) else \"Semi-tryptic\" if (prot_seq[i-2] in \"KR\" or prot_seq[j-1] in \"KR\") else \"Non-tryptic\" for i,j in zip(pept_start, pept_end)]\n",
        "        protein[\"Tryp Pept num\"] = protein[(protein[\"pept_type\"] == \"Tryptic\")].copy().shape[0]\n",
        "        protein[\"Semi Pept num\"] = protein[(protein[\"pept_type\"] == \"Semi-tryptic\")].copy().shape[0]\n",
        "        sig_semi_pepts = protein[(protein[\"pept_type\"] == \"Semi-tryptic\") & (protein[\"Treat/Control_pval\"] < sig_thr)].copy()\n",
        "        protein[\"Sig Semi Pept num\"] = sig_semi_pepts.shape[0]\n",
        "        protein[\"Sum FC of Sig Semi Pept\"] = sig_semi_pepts[\"Treat/Control\"].abs().sum()\n",
        "        protein[\"pept_id\"] = [str(protein[\"pept_start\"].to_list()[i]).zfill(4) + '-' + str(protein[\"pept_end\"].to_list()[i]).zfill(4) + '@' + pept for i, pept in enumerate(protein[\"Sequence\"].to_list())]\n",
        "        protein.index = protein[\"pept_id\"]\n",
        "        tryptic = protein[protein[\"pept_type\"] == \"Tryptic\"].copy().sort_index()\n",
        "        semitryptic = protein[protein[\"pept_type\"] == \"Semi-tryptic\"].copy().sort_index()\n",
        "        tryptic[\"lytic_group\"] = 0\n",
        "        semitryptic[\"lytic_group\"] = 0\n",
        "        for i, idx in enumerate(tryptic.index.to_list()):\n",
        "            tryptic.loc[idx, \"lytic_group\"] = i+1\n",
        "            semitryptic.loc[((semitryptic[\"pept_start\"] == tryptic.loc[idx, \"pept_start\"]) | (semitryptic[\"pept_end\"] == tryptic.loc[idx, \"pept_end\"])), \"lytic_group\"] = i+1\n",
        "        protein_any_tryptic = pd.concat([tryptic, semitryptic]).copy()\n",
        "        protein_any_tryptic_sig = protein_any_tryptic[protein_any_tryptic[\"Treat/Control_pval\"] < sig_thr].copy()\n",
        "        if uniprot_id in plotting_ids:\n",
        "            fc_diff_names = [aa + str(i+1) for i, aa in enumerate(list(sequence))]\n",
        "            tryptic_bar_code = [(1.0,1.0,1.0)] * len(fc_diff_names)\n",
        "            semi_bar_code = [(1.0,1.0,1.0)] * len(fc_diff_names)\n",
        "\n",
        "            tryptic_res = tryptic.copy()\n",
        "            if tryptic_res.shape[0] > 0:\n",
        "                tryptic_res[\"residue\"] = [[res + str(sequence.find(clean_pept)+i+1) for i, res in enumerate(clean_pept)] for clean_pept in tryptic_res[\"clean_pepts\"]]\n",
        "                tryptic_res = tryptic_res.explode(\"residue\")\n",
        "                tryptic_res.index = tryptic_res[\"residue\"]\n",
        "                tryptic_res[intensity_cols] = 2 ** (tryptic_res[intensity_cols])\n",
        "                tryptic_res_grouped = tryptic_res[intensity_cols].groupby(\"residue\").sum(min_count=1)\n",
        "                tryptic_res_grouped = np.log2(tryptic_res_grouped)\n",
        "                tryptic_res_grouped[\"Uniprot\"] = uniprot_id\n",
        "                tryptic_res_grouped[\"Site\"] = tryptic_res_grouped.index.to_list()\n",
        "                tryptic_res_grouped[\"Pos\"] = [int(re.sub(r\"\\D\", \"\", site)) for site in tryptic_res_grouped[\"Site\"]]\n",
        "                tryptic_res_grouped[\"Control\"] = tryptic_res_grouped[trypsin_ctrl_cols].mean(axis=1).fillna(0)\n",
        "                tryptic_res_grouped[\"Treat\"] = tryptic_res_grouped[trypsin_treat_cols].mean(axis=1).fillna(0)\n",
        "                tryptic_res_grouped[\"Treat/Control\"] = tryptic_res_grouped[\"Treat\"] - tryptic_res_grouped[\"Control\"]\n",
        "                tryptic_res_grouped[\"Treat/Control_pval\"] = sp.stats.ttest_ind(tryptic_res_grouped[trypsin_treat_cols], tryptic_res_grouped[trypsin_ctrl_cols], axis=1, nan_policy='omit').pvalue\n",
        "                tryptic_res_grouped[\"Treat/Control_pval\"].fillna(0, inplace=True)\n",
        "                tryptic_res_grouped[\"Treat/Control_adj-p\"] = sp.stats.false_discovery_control(tryptic_res_grouped[\"Treat/Control_pval\"].fillna(0))\n",
        "                tryptic_res_grouped[\"Treat/Control_adj-p_BY\"] = sp.stats.false_discovery_control(tryptic_res_grouped[\"Treat/Control_pval\"].fillna(0), method = 'by')\n",
        "                tryptic_res_grouped[\"Treat/Control_adj-p_bonferroni\"] = multitest.multipletests(tryptic_res_grouped[\"Treat/Control_pval\"].fillna(0), method='bonferroni')[1]\n",
        "                # tryptic_res_grouped_sig = tryptic_res_grouped[tryptic_res_grouped[\"Treat/Control_pval\"] < sig_thr].copy()\n",
        "                tryptic_res_grouped.sort_values(by=[\"Pos\"], inplace=True)\n",
        "                tryptic_res_grouped_copy = tryptic_res_grouped[tryptic_res_grouped.columns.to_list()[-7:] + tryptic_res_grouped.columns.to_list()[:-7]].copy()\n",
        "                tryptic_res_grouped_copy.index = uniprot_id + '@' + tryptic_res_grouped_copy[\"Site\"]\n",
        "                all_tryptic_regions.append(tryptic_res_grouped_copy)\n",
        "\n",
        "                tryptic_fc_diff = tryptic_res_grouped[[\"Site\", \"Pos\", \"Treat/Control\", \"Treat/Control_pval\"]].copy()\n",
        "                tryptic_fc_diff.index = tryptic_fc_diff[\"Site\"]\n",
        "                tryptic_fc_diff_max = tryptic_fc_diff[\"Treat/Control\"].abs().max()\n",
        "                for i in range(tryptic_fc_diff.shape[0]):\n",
        "                    if tryptic_fc_diff.iloc[i, 2] > 0:\n",
        "                        if tryptic_fc_diff.iloc[i, 3] < 0.05:\n",
        "                            tryptic_bar_code[tryptic_fc_diff.iloc[i, 1] - 1] = up_pal_vals[np.ceil(min(abs(tryptic_fc_diff.iloc[i, 2]),3.322)/tryptic_fc_diff_max * color_levels).astype(\"int\") - 1]\n",
        "                        else:\n",
        "                            tryptic_bar_code[tryptic_fc_diff.iloc[i, 1] - 1] = insig_pal_vals[np.ceil(min(abs(tryptic_fc_diff.iloc[i, 2]),3.322)/tryptic_fc_diff_max * color_levels).astype(\"int\") - 1]\n",
        "                    else:\n",
        "                        if tryptic_fc_diff.iloc[i, 3] < 0.05:\n",
        "                            tryptic_bar_code[tryptic_fc_diff.iloc[i, 1] - 1] = down_pal_vals[np.ceil(min(abs(tryptic_fc_diff.iloc[i, 2]),3.322)/tryptic_fc_diff_max * color_levels).astype(\"int\") - 1]\n",
        "                        else:\n",
        "                            tryptic_bar_code[tryptic_fc_diff.iloc[i, 1] - 1] = insig_pal_vals[np.ceil(min(abs(tryptic_fc_diff.iloc[i, 2]),3.322)/tryptic_fc_diff_max * color_levels).astype(\"int\") - 1]\n",
        "    \n",
        "            semi_res = semitryptic.copy()\n",
        "            if semi_res.shape[0] > 0:\n",
        "                semi_res[\"residue\"] = [[res + str(sequence.find(clean_pept)+i+1) for i, res in enumerate(clean_pept)] for clean_pept in semi_res[\"clean_pepts\"]]\n",
        "                semi_res = semi_res.explode(\"residue\")\n",
        "                semi_res.index = semi_res[\"residue\"]\n",
        "                semi_res[intensity_cols] = 2 ** (semi_res[intensity_cols])\n",
        "                semi_res_grouped = semi_res[intensity_cols].groupby(\"residue\").sum(min_count=1)\n",
        "                semi_res_grouped = np.log2(semi_res_grouped)\n",
        "                semi_res_grouped[\"Uniprot\"] = uniprot_id\n",
        "                semi_res_grouped[\"Site\"] = semi_res_grouped.index.to_list()\n",
        "                semi_res_grouped[\"Pos\"] = [int(re.sub(r\"\\D\", \"\", site)) for site in semi_res_grouped[\"Site\"]]\n",
        "                semi_res_grouped[\"Control\"] = semi_res_grouped[trypsin_ctrl_cols].mean(axis=1).fillna(0)\n",
        "                semi_res_grouped[\"Treat\"] = semi_res_grouped[trypsin_treat_cols].mean(axis=1).fillna(0)\n",
        "                semi_res_grouped[\"Treat/Control\"] = semi_res_grouped[\"Treat\"] - semi_res_grouped[\"Control\"]\n",
        "                semi_res_grouped[\"Treat/Control_pval\"] = sp.stats.ttest_ind(semi_res_grouped[trypsin_treat_cols], semi_res_grouped[trypsin_ctrl_cols], axis=1, nan_policy='omit').pvalue\n",
        "                semi_res_grouped[\"Treat/Control_pval\"].fillna(0, inplace=True)\n",
        "                semi_res_grouped[\"Treat/Control_adj-p\"] = sp.stats.false_discovery_control(semi_res_grouped[\"Treat/Control_pval\"].fillna(0))\n",
        "                semi_res_grouped[\"Treat/Control_adj-p_BY\"] = sp.stats.false_discovery_control(semi_res_grouped[\"Treat/Control_pval\"].fillna(0), method = 'by')\n",
        "                semi_res_grouped[\"Treat/Control_adj-p_bonferroni\"] = multitest.multipletests(semi_res_grouped[\"Treat/Control_pval\"].fillna(0), method='bonferroni')[1]\n",
        "                # semi_res_grouped_sig = semi_res_grouped[semi_res_grouped[\"Treat/Control_pval\"] < sig_thr].copy()\n",
        "                semi_res_grouped.sort_values(by=[\"Pos\"], inplace=True)\n",
        "                semi_res_grouped_copy = semi_res_grouped[semi_res_grouped.columns.to_list()[-7:] + semi_res_grouped.columns.to_list()[:-7]].copy()\n",
        "                semi_res_grouped_copy.index = uniprot_id + '@' + semi_res_grouped_copy[\"Site\"]\n",
        "                all_semi_regions.append(semi_res_grouped_copy)\n",
        "\n",
        "                semi_fc_diff = semi_res_grouped[[\"Site\", \"Pos\", \"Treat/Control\", \"Treat/Control_pval\"]].copy()\n",
        "                semi_fc_diff.index = semi_fc_diff[\"Site\"]\n",
        "                semi_fc_diff_max = semi_fc_diff[\"Treat/Control\"].abs().max()\n",
        "                for i in range(semi_fc_diff.shape[0]):\n",
        "                    if semi_fc_diff.iloc[i, 2] > 0:\n",
        "                        if semi_fc_diff.iloc[i, 3] < 0.05:\n",
        "                            semi_bar_code[semi_fc_diff.iloc[i, 1] - 1] = up_pal_vals[np.ceil(min(abs(semi_fc_diff.iloc[i, 2]),3.322)/semi_fc_diff_max * color_levels).astype(\"int\") - 1]\n",
        "                        else:\n",
        "                            semi_bar_code[semi_fc_diff.iloc[i, 1] - 1] = insig_pal_vals[np.ceil(min(abs(semi_fc_diff.iloc[i, 2]),3.322)/semi_fc_diff_max * color_levels).astype(\"int\") - 1]\n",
        "                    else:\n",
        "                        if semi_fc_diff.iloc[i, 3] < 0.05:\n",
        "                            semi_bar_code[semi_fc_diff.iloc[i, 1] - 1] = down_pal_vals[np.ceil(min(abs(semi_fc_diff.iloc[i, 2]),3.322)/semi_fc_diff_max * color_levels).astype(\"int\") - 1]\n",
        "                        else:\n",
        "                            semi_bar_code[semi_fc_diff.iloc[i, 1] - 1] = insig_pal_vals[np.ceil(min(abs(semi_fc_diff.iloc[i, 2]),3.322)/semi_fc_diff_max * color_levels).astype(\"int\") - 1]\n",
        "            \n",
        "            # fig = plt.figure(figsize=(10,5))\n",
        "            # ax = fig.add_subplot(2, 1, 1)\n",
        "            # plot_barcode(tryptic_bar_code, barcode_name = uniprot_id + \"_tryptic\", ticklabel=[fc_diff_names[j] for j in np.arange(0,seq_len,np.ceil(seq_len/10).astype(\"int\"))], ax=ax)\n",
        "            # ax = fig.add_subplot(2, 1, 2)\n",
        "            # plot_barcode(semi_bar_code, barcode_name = uniprot_id + \"_semi-tryptic\", ticklabel=[fc_diff_names[j] for j in np.arange(0,seq_len,np.ceil(seq_len/10).astype(\"int\"))], ax=ax)\n",
        "            # plt.tight_layout()\n",
        "            # plt.savefig(pept_dir + uniprot_id.replace('|','-') + \"_residue_any_tryptic_barcode.pdf\")\n",
        "            # plt.close()\n",
        "    \n",
        "    \n",
        "    any_tryptic.append(protein_any_tryptic)\n",
        "    any_tryptic_sig.append(protein_any_tryptic_sig)"
      ],
      "execution_count": null,
      "outputs": []
    },
    {
      "cell_type": "code",
      "metadata": {},
      "source": [
        "new_info_cols = info_cols + [\"Protein description\", \"Protein length\", \"Tryp Pept num\", \"Semi Pept num\", \"Sig Semi Pept num\", \"Sum FC of Sig Semi Pept\", \"pept_start\", \"pept_end\", \"pept_type\", \"lytic_group\"]\n",
        "new_trypsin_cols = new_info_cols + trypsin_int_cols"
      ],
      "execution_count": null,
      "outputs": []
    },
    {
      "cell_type": "code",
      "metadata": {},
      "source": [
        "any_tryptic_df = pd.concat(any_tryptic)\n",
        "any_tryptic_df[new_trypsin_cols].to_csv(result_dir + sample + \"_trypsin_pept_annot.tsv\", sep='\\t', index=None)\n",
        "any_tryptic_df[new_trypsin_cols].to_pickle(result_dir + sample + \"_trypsin_pept_annot.pkl\")\n",
        "# any_tryptic_sig_df = pd.concat(any_tryptic_sig)\n",
        "# any_tryptic_sig_df[new_trypsin_cols].to_csv(result_dir + sample + \"_trypsin_pept_sig_annot.tsv\", sep='\\t', index=None)\n",
        "# any_tryptic_sig_df[new_trypsin_cols].to_pickle(result_dir + sample + \"_trypsin_pept_sig_annot.pkl\")"
      ],
      "execution_count": null,
      "outputs": []
    }
  ],
  "metadata": {
    "kernelspec": {
      "display_name": "Python 3",
      "language": "python",
      "name": "python3"
    }
  },
  "nbformat": 4,
  "nbformat_minor": 4
}